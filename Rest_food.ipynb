{
 "cells": [
  {
   "cell_type": "code",
   "execution_count": 145,
   "metadata": {},
   "outputs": [],
   "source": [
    "import pandas as pd\n",
    "import numpy as np\n",
    "import matplotlib.pyplot as plt\n",
    "import seaborn as sns\n",
    "from mpl_toolkits import mplot3d\n",
    "%matplotlib inline"
   ]
  },
  {
   "cell_type": "code",
   "execution_count": 146,
   "metadata": {},
   "outputs": [
    {
     "data": {
      "text/html": [
       "<div>\n",
       "<style scoped>\n",
       "    .dataframe tbody tr th:only-of-type {\n",
       "        vertical-align: middle;\n",
       "    }\n",
       "\n",
       "    .dataframe tbody tr th {\n",
       "        vertical-align: top;\n",
       "    }\n",
       "\n",
       "    .dataframe thead th {\n",
       "        text-align: right;\n",
       "    }\n",
       "</style>\n",
       "<table border=\"1\" class=\"dataframe\">\n",
       "  <thead>\n",
       "    <tr style=\"text-align: right;\">\n",
       "      <th></th>\n",
       "      <th>TITLE</th>\n",
       "      <th>RESTAURANT_ID</th>\n",
       "      <th>CUISINES</th>\n",
       "      <th>TIME</th>\n",
       "      <th>CITY</th>\n",
       "      <th>LOCALITY</th>\n",
       "      <th>RATING</th>\n",
       "      <th>VOTES</th>\n",
       "      <th>COST</th>\n",
       "    </tr>\n",
       "  </thead>\n",
       "  <tbody>\n",
       "    <tr>\n",
       "      <th>0</th>\n",
       "      <td>CASUAL DINING</td>\n",
       "      <td>9438</td>\n",
       "      <td>Malwani, Goan, North Indian</td>\n",
       "      <td>11am – 4pm, 7:30pm – 11:30pm (Mon-Sun)</td>\n",
       "      <td>Thane</td>\n",
       "      <td>Dombivali East</td>\n",
       "      <td>3.6</td>\n",
       "      <td>49 votes</td>\n",
       "      <td>1200</td>\n",
       "    </tr>\n",
       "    <tr>\n",
       "      <th>1</th>\n",
       "      <td>CASUAL DINING,BAR</td>\n",
       "      <td>13198</td>\n",
       "      <td>Asian, Modern Indian, Japanese</td>\n",
       "      <td>6pm – 11pm (Mon-Sun)</td>\n",
       "      <td>Chennai</td>\n",
       "      <td>Ramapuram</td>\n",
       "      <td>4.2</td>\n",
       "      <td>30 votes</td>\n",
       "      <td>1500</td>\n",
       "    </tr>\n",
       "    <tr>\n",
       "      <th>2</th>\n",
       "      <td>CASUAL DINING</td>\n",
       "      <td>10915</td>\n",
       "      <td>North Indian, Chinese, Biryani, Hyderabadi</td>\n",
       "      <td>11am – 3:30pm, 7pm – 11pm (Mon-Sun)</td>\n",
       "      <td>Chennai</td>\n",
       "      <td>Saligramam</td>\n",
       "      <td>3.8</td>\n",
       "      <td>221 votes</td>\n",
       "      <td>800</td>\n",
       "    </tr>\n",
       "    <tr>\n",
       "      <th>3</th>\n",
       "      <td>QUICK BITES</td>\n",
       "      <td>6346</td>\n",
       "      <td>Tibetan, Chinese</td>\n",
       "      <td>11:30am – 1am (Mon-Sun)</td>\n",
       "      <td>Mumbai</td>\n",
       "      <td>Bandra West</td>\n",
       "      <td>4.1</td>\n",
       "      <td>24 votes</td>\n",
       "      <td>800</td>\n",
       "    </tr>\n",
       "    <tr>\n",
       "      <th>4</th>\n",
       "      <td>DESSERT PARLOR</td>\n",
       "      <td>15387</td>\n",
       "      <td>Desserts</td>\n",
       "      <td>11am – 1am (Mon-Sun)</td>\n",
       "      <td>Mumbai</td>\n",
       "      <td>Lower Parel</td>\n",
       "      <td>3.8</td>\n",
       "      <td>165 votes</td>\n",
       "      <td>300</td>\n",
       "    </tr>\n",
       "    <tr>\n",
       "      <th>5</th>\n",
       "      <td>CASUAL DINING</td>\n",
       "      <td>5618</td>\n",
       "      <td>North Indian, Chinese, Seafood, Biryani</td>\n",
       "      <td>12noon – 12:30AM (Mon-Sun)</td>\n",
       "      <td>Mumbai</td>\n",
       "      <td>Vile Parle West</td>\n",
       "      <td>4.0</td>\n",
       "      <td>550 votes</td>\n",
       "      <td>800</td>\n",
       "    </tr>\n",
       "    <tr>\n",
       "      <th>6</th>\n",
       "      <td>CAFÉ</td>\n",
       "      <td>4383</td>\n",
       "      <td>Cafe, Chinese, Pizza, North Indian, Burger</td>\n",
       "      <td>12noon – 11:30pm (Mon, Tue, Thu, Fri, Sat, Sun...</td>\n",
       "      <td>Bangalore</td>\n",
       "      <td>Koramangala 6th Block</td>\n",
       "      <td>4.1</td>\n",
       "      <td>509 votes</td>\n",
       "      <td>600</td>\n",
       "    </tr>\n",
       "    <tr>\n",
       "      <th>7</th>\n",
       "      <td>MICROBREWERY</td>\n",
       "      <td>1249</td>\n",
       "      <td>Bar Food</td>\n",
       "      <td>1pm – 1am (Mon-Sun)</td>\n",
       "      <td>Gurgaon</td>\n",
       "      <td>Sector 29</td>\n",
       "      <td>4.3</td>\n",
       "      <td>1612 votes</td>\n",
       "      <td>1600</td>\n",
       "    </tr>\n",
       "    <tr>\n",
       "      <th>8</th>\n",
       "      <td>QUICK BITES</td>\n",
       "      <td>7062</td>\n",
       "      <td>South Indian, North Indian</td>\n",
       "      <td>7am – 10:30pm (Mon-Sun)</td>\n",
       "      <td>Bangalore</td>\n",
       "      <td>Bannerghatta Road</td>\n",
       "      <td>3.9</td>\n",
       "      <td>101 votes</td>\n",
       "      <td>300</td>\n",
       "    </tr>\n",
       "    <tr>\n",
       "      <th>9</th>\n",
       "      <td>QUICK BITES</td>\n",
       "      <td>10109</td>\n",
       "      <td>North Indian</td>\n",
       "      <td>11am – 2pm, 4pm – 10:30pm (Mon-Sun)</td>\n",
       "      <td>Hyderabad</td>\n",
       "      <td>Dilsukhnagar</td>\n",
       "      <td>3.3</td>\n",
       "      <td>219 votes</td>\n",
       "      <td>200</td>\n",
       "    </tr>\n",
       "    <tr>\n",
       "      <th>10</th>\n",
       "      <td>CASUAL DINING</td>\n",
       "      <td>38</td>\n",
       "      <td>North Indian, Chinese, Fast Food, Biryani</td>\n",
       "      <td>12:30pm – 12:30AM (Mon-Sun)</td>\n",
       "      <td>Bangalore</td>\n",
       "      <td>Koramangala 5th Block</td>\n",
       "      <td>4.1</td>\n",
       "      <td>244 votes</td>\n",
       "      <td>900</td>\n",
       "    </tr>\n",
       "    <tr>\n",
       "      <th>11</th>\n",
       "      <td>QUICK BITES,BEVERAGE SHOP</td>\n",
       "      <td>844</td>\n",
       "      <td>Fast Food, Burger, Beverages</td>\n",
       "      <td>11am – 12:15AM (Mon, Tue, Wed, Thu, Fri, Sun)...</td>\n",
       "      <td>Bangalore</td>\n",
       "      <td>Indiranagar</td>\n",
       "      <td>4.0</td>\n",
       "      <td>274 votes</td>\n",
       "      <td>800</td>\n",
       "    </tr>\n",
       "    <tr>\n",
       "      <th>12</th>\n",
       "      <td>CASUAL DINING</td>\n",
       "      <td>938</td>\n",
       "      <td>Arabian, Mughlai</td>\n",
       "      <td>11am – 11pm (Mon-Sun)</td>\n",
       "      <td>Kochi</td>\n",
       "      <td>Chullickal</td>\n",
       "      <td>3.4</td>\n",
       "      <td>15 votes</td>\n",
       "      <td>600</td>\n",
       "    </tr>\n",
       "    <tr>\n",
       "      <th>13</th>\n",
       "      <td>CASUAL DINING</td>\n",
       "      <td>4319</td>\n",
       "      <td>South Indian</td>\n",
       "      <td>11am – 11:30pm (Mon-Sun)</td>\n",
       "      <td>Kochi</td>\n",
       "      <td>Edappally</td>\n",
       "      <td>-</td>\n",
       "      <td>NaN</td>\n",
       "      <td>400</td>\n",
       "    </tr>\n",
       "    <tr>\n",
       "      <th>14</th>\n",
       "      <td>QUICK BITES</td>\n",
       "      <td>15024</td>\n",
       "      <td>Maharashtrian</td>\n",
       "      <td>Closed (Mon),11am – 11pm (Tue-Sun)</td>\n",
       "      <td>Thane West</td>\n",
       "      <td>Majiwada</td>\n",
       "      <td>4.0</td>\n",
       "      <td>160 votes</td>\n",
       "      <td>300</td>\n",
       "    </tr>\n",
       "  </tbody>\n",
       "</table>\n",
       "</div>"
      ],
      "text/plain": [
       "                        TITLE  RESTAURANT_ID  \\\n",
       "0               CASUAL DINING           9438   \n",
       "1           CASUAL DINING,BAR          13198   \n",
       "2               CASUAL DINING          10915   \n",
       "3                 QUICK BITES           6346   \n",
       "4              DESSERT PARLOR          15387   \n",
       "5               CASUAL DINING           5618   \n",
       "6                        CAFÉ           4383   \n",
       "7                MICROBREWERY           1249   \n",
       "8                 QUICK BITES           7062   \n",
       "9                 QUICK BITES          10109   \n",
       "10              CASUAL DINING             38   \n",
       "11  QUICK BITES,BEVERAGE SHOP            844   \n",
       "12              CASUAL DINING            938   \n",
       "13              CASUAL DINING           4319   \n",
       "14                QUICK BITES          15024   \n",
       "\n",
       "                                      CUISINES  \\\n",
       "0                  Malwani, Goan, North Indian   \n",
       "1               Asian, Modern Indian, Japanese   \n",
       "2   North Indian, Chinese, Biryani, Hyderabadi   \n",
       "3                             Tibetan, Chinese   \n",
       "4                                     Desserts   \n",
       "5      North Indian, Chinese, Seafood, Biryani   \n",
       "6   Cafe, Chinese, Pizza, North Indian, Burger   \n",
       "7                                     Bar Food   \n",
       "8                   South Indian, North Indian   \n",
       "9                                 North Indian   \n",
       "10   North Indian, Chinese, Fast Food, Biryani   \n",
       "11                Fast Food, Burger, Beverages   \n",
       "12                            Arabian, Mughlai   \n",
       "13                                South Indian   \n",
       "14                               Maharashtrian   \n",
       "\n",
       "                                                 TIME        CITY  \\\n",
       "0              11am – 4pm, 7:30pm – 11:30pm (Mon-Sun)       Thane   \n",
       "1                                6pm – 11pm (Mon-Sun)     Chennai   \n",
       "2                 11am – 3:30pm, 7pm – 11pm (Mon-Sun)     Chennai   \n",
       "3                             11:30am – 1am (Mon-Sun)      Mumbai   \n",
       "4                                11am – 1am (Mon-Sun)      Mumbai   \n",
       "5                          12noon – 12:30AM (Mon-Sun)      Mumbai   \n",
       "6   12noon – 11:30pm (Mon, Tue, Thu, Fri, Sat, Sun...   Bangalore   \n",
       "7                                 1pm – 1am (Mon-Sun)     Gurgaon   \n",
       "8                             7am – 10:30pm (Mon-Sun)   Bangalore   \n",
       "9                 11am – 2pm, 4pm – 10:30pm (Mon-Sun)   Hyderabad   \n",
       "10                        12:30pm – 12:30AM (Mon-Sun)   Bangalore   \n",
       "11   11am – 12:15AM (Mon, Tue, Wed, Thu, Fri, Sun)...   Bangalore   \n",
       "12                              11am – 11pm (Mon-Sun)       Kochi   \n",
       "13                           11am – 11:30pm (Mon-Sun)       Kochi   \n",
       "14                 Closed (Mon),11am – 11pm (Tue-Sun)  Thane West   \n",
       "\n",
       "                 LOCALITY RATING       VOTES  COST  \n",
       "0          Dombivali East    3.6    49 votes  1200  \n",
       "1               Ramapuram    4.2    30 votes  1500  \n",
       "2              Saligramam    3.8   221 votes   800  \n",
       "3             Bandra West    4.1    24 votes   800  \n",
       "4             Lower Parel    3.8   165 votes   300  \n",
       "5         Vile Parle West    4.0   550 votes   800  \n",
       "6   Koramangala 6th Block    4.1   509 votes   600  \n",
       "7               Sector 29    4.3  1612 votes  1600  \n",
       "8       Bannerghatta Road    3.9   101 votes   300  \n",
       "9            Dilsukhnagar    3.3   219 votes   200  \n",
       "10  Koramangala 5th Block    4.1   244 votes   900  \n",
       "11            Indiranagar    4.0   274 votes   800  \n",
       "12             Chullickal    3.4    15 votes   600  \n",
       "13              Edappally      -         NaN   400  \n",
       "14               Majiwada    4.0   160 votes   300  "
      ]
     },
     "execution_count": 146,
     "metadata": {},
     "output_type": "execute_result"
    }
   ],
   "source": [
    "data=pd.read_excel('Data_Train.xlsx')\n",
    "data.head(15)"
   ]
  },
  {
   "cell_type": "code",
   "execution_count": 147,
   "metadata": {},
   "outputs": [
    {
     "data": {
      "text/html": [
       "<div>\n",
       "<style scoped>\n",
       "    .dataframe tbody tr th:only-of-type {\n",
       "        vertical-align: middle;\n",
       "    }\n",
       "\n",
       "    .dataframe tbody tr th {\n",
       "        vertical-align: top;\n",
       "    }\n",
       "\n",
       "    .dataframe thead th {\n",
       "        text-align: right;\n",
       "    }\n",
       "</style>\n",
       "<table border=\"1\" class=\"dataframe\">\n",
       "  <thead>\n",
       "    <tr style=\"text-align: right;\">\n",
       "      <th></th>\n",
       "      <th>TITLE</th>\n",
       "      <th>RESTAURANT_ID</th>\n",
       "      <th>CUISINES</th>\n",
       "      <th>TIME</th>\n",
       "      <th>CITY</th>\n",
       "      <th>LOCALITY</th>\n",
       "      <th>RATING</th>\n",
       "      <th>VOTES</th>\n",
       "      <th>COST</th>\n",
       "    </tr>\n",
       "  </thead>\n",
       "  <tbody>\n",
       "    <tr>\n",
       "      <th>count</th>\n",
       "      <td>12690</td>\n",
       "      <td>12690.000000</td>\n",
       "      <td>12690</td>\n",
       "      <td>12690</td>\n",
       "      <td>12578</td>\n",
       "      <td>12592</td>\n",
       "      <td>12688</td>\n",
       "      <td>11486</td>\n",
       "      <td>12690.000000</td>\n",
       "    </tr>\n",
       "    <tr>\n",
       "      <th>unique</th>\n",
       "      <td>113</td>\n",
       "      <td>NaN</td>\n",
       "      <td>4155</td>\n",
       "      <td>2689</td>\n",
       "      <td>359</td>\n",
       "      <td>1416</td>\n",
       "      <td>32</td>\n",
       "      <td>1847</td>\n",
       "      <td>NaN</td>\n",
       "    </tr>\n",
       "    <tr>\n",
       "      <th>top</th>\n",
       "      <td>QUICK BITES</td>\n",
       "      <td>NaN</td>\n",
       "      <td>South Indian</td>\n",
       "      <td>11am – 11pm (Mon-Sun)</td>\n",
       "      <td>Chennai</td>\n",
       "      <td>Gachibowli</td>\n",
       "      <td>3.9</td>\n",
       "      <td>44 votes</td>\n",
       "      <td>NaN</td>\n",
       "    </tr>\n",
       "    <tr>\n",
       "      <th>freq</th>\n",
       "      <td>4218</td>\n",
       "      <td>NaN</td>\n",
       "      <td>532</td>\n",
       "      <td>1415</td>\n",
       "      <td>2174</td>\n",
       "      <td>166</td>\n",
       "      <td>1238</td>\n",
       "      <td>71</td>\n",
       "      <td>NaN</td>\n",
       "    </tr>\n",
       "    <tr>\n",
       "      <th>mean</th>\n",
       "      <td>NaN</td>\n",
       "      <td>7759.134121</td>\n",
       "      <td>NaN</td>\n",
       "      <td>NaN</td>\n",
       "      <td>NaN</td>\n",
       "      <td>NaN</td>\n",
       "      <td>NaN</td>\n",
       "      <td>NaN</td>\n",
       "      <td>655.252246</td>\n",
       "    </tr>\n",
       "    <tr>\n",
       "      <th>std</th>\n",
       "      <td>NaN</td>\n",
       "      <td>4504.874150</td>\n",
       "      <td>NaN</td>\n",
       "      <td>NaN</td>\n",
       "      <td>NaN</td>\n",
       "      <td>NaN</td>\n",
       "      <td>NaN</td>\n",
       "      <td>NaN</td>\n",
       "      <td>627.003540</td>\n",
       "    </tr>\n",
       "    <tr>\n",
       "      <th>min</th>\n",
       "      <td>NaN</td>\n",
       "      <td>0.000000</td>\n",
       "      <td>NaN</td>\n",
       "      <td>NaN</td>\n",
       "      <td>NaN</td>\n",
       "      <td>NaN</td>\n",
       "      <td>NaN</td>\n",
       "      <td>NaN</td>\n",
       "      <td>20.000000</td>\n",
       "    </tr>\n",
       "    <tr>\n",
       "      <th>25%</th>\n",
       "      <td>NaN</td>\n",
       "      <td>3863.250000</td>\n",
       "      <td>NaN</td>\n",
       "      <td>NaN</td>\n",
       "      <td>NaN</td>\n",
       "      <td>NaN</td>\n",
       "      <td>NaN</td>\n",
       "      <td>NaN</td>\n",
       "      <td>300.000000</td>\n",
       "    </tr>\n",
       "    <tr>\n",
       "      <th>50%</th>\n",
       "      <td>NaN</td>\n",
       "      <td>7740.000000</td>\n",
       "      <td>NaN</td>\n",
       "      <td>NaN</td>\n",
       "      <td>NaN</td>\n",
       "      <td>NaN</td>\n",
       "      <td>NaN</td>\n",
       "      <td>NaN</td>\n",
       "      <td>500.000000</td>\n",
       "    </tr>\n",
       "    <tr>\n",
       "      <th>75%</th>\n",
       "      <td>NaN</td>\n",
       "      <td>11688.750000</td>\n",
       "      <td>NaN</td>\n",
       "      <td>NaN</td>\n",
       "      <td>NaN</td>\n",
       "      <td>NaN</td>\n",
       "      <td>NaN</td>\n",
       "      <td>NaN</td>\n",
       "      <td>800.000000</td>\n",
       "    </tr>\n",
       "    <tr>\n",
       "      <th>max</th>\n",
       "      <td>NaN</td>\n",
       "      <td>15573.000000</td>\n",
       "      <td>NaN</td>\n",
       "      <td>NaN</td>\n",
       "      <td>NaN</td>\n",
       "      <td>NaN</td>\n",
       "      <td>NaN</td>\n",
       "      <td>NaN</td>\n",
       "      <td>14000.000000</td>\n",
       "    </tr>\n",
       "  </tbody>\n",
       "</table>\n",
       "</div>"
      ],
      "text/plain": [
       "              TITLE  RESTAURANT_ID      CUISINES                   TIME  \\\n",
       "count         12690   12690.000000         12690                  12690   \n",
       "unique          113            NaN          4155                   2689   \n",
       "top     QUICK BITES            NaN  South Indian  11am – 11pm (Mon-Sun)   \n",
       "freq           4218            NaN           532                   1415   \n",
       "mean            NaN    7759.134121           NaN                    NaN   \n",
       "std             NaN    4504.874150           NaN                    NaN   \n",
       "min             NaN       0.000000           NaN                    NaN   \n",
       "25%             NaN    3863.250000           NaN                    NaN   \n",
       "50%             NaN    7740.000000           NaN                    NaN   \n",
       "75%             NaN   11688.750000           NaN                    NaN   \n",
       "max             NaN   15573.000000           NaN                    NaN   \n",
       "\n",
       "           CITY    LOCALITY RATING     VOTES          COST  \n",
       "count     12578       12592  12688     11486  12690.000000  \n",
       "unique      359        1416     32      1847           NaN  \n",
       "top     Chennai  Gachibowli    3.9  44 votes           NaN  \n",
       "freq       2174         166   1238        71           NaN  \n",
       "mean        NaN         NaN    NaN       NaN    655.252246  \n",
       "std         NaN         NaN    NaN       NaN    627.003540  \n",
       "min         NaN         NaN    NaN       NaN     20.000000  \n",
       "25%         NaN         NaN    NaN       NaN    300.000000  \n",
       "50%         NaN         NaN    NaN       NaN    500.000000  \n",
       "75%         NaN         NaN    NaN       NaN    800.000000  \n",
       "max         NaN         NaN    NaN       NaN  14000.000000  "
      ]
     },
     "execution_count": 147,
     "metadata": {},
     "output_type": "execute_result"
    }
   ],
   "source": [
    "data.describe(include='all')"
   ]
  },
  {
   "cell_type": "code",
   "execution_count": 148,
   "metadata": {},
   "outputs": [
    {
     "data": {
      "text/plain": [
       "13       400\n",
       "85       300\n",
       "156      400\n",
       "178      400\n",
       "235       50\n",
       "        ... \n",
       "12584    300\n",
       "12585    400\n",
       "12591    150\n",
       "12641    300\n",
       "12646    300\n",
       "Name: COST, Length: 495, dtype: int64"
      ]
     },
     "execution_count": 148,
     "metadata": {},
     "output_type": "execute_result"
    }
   ],
   "source": [
    "data[data['RATING']=='-']['COST']"
   ]
  },
  {
   "cell_type": "code",
   "execution_count": 149,
   "metadata": {},
   "outputs": [
    {
     "name": "stderr",
     "output_type": "stream",
     "text": [
      "C:\\ProgramData\\Anaconda3\\lib\\site-packages\\ipykernel_launcher.py:1: SettingWithCopyWarning: \n",
      "A value is trying to be set on a copy of a slice from a DataFrame\n",
      "\n",
      "See the caveats in the documentation: https://pandas.pydata.org/pandas-docs/stable/user_guide/indexing.html#returning-a-view-versus-a-copy\n",
      "  \"\"\"Entry point for launching an IPython kernel.\n"
     ]
    }
   ],
   "source": [
    "data['RATING'][data['RATING']=='NEW']='-1'"
   ]
  },
  {
   "cell_type": "code",
   "execution_count": 150,
   "metadata": {},
   "outputs": [
    {
     "name": "stderr",
     "output_type": "stream",
     "text": [
      "C:\\ProgramData\\Anaconda3\\lib\\site-packages\\ipykernel_launcher.py:1: SettingWithCopyWarning: \n",
      "A value is trying to be set on a copy of a slice from a DataFrame\n",
      "\n",
      "See the caveats in the documentation: https://pandas.pydata.org/pandas-docs/stable/user_guide/indexing.html#returning-a-view-versus-a-copy\n",
      "  \"\"\"Entry point for launching an IPython kernel.\n"
     ]
    }
   ],
   "source": [
    "data['RATING'][data['RATING']=='-']='-1'"
   ]
  },
  {
   "cell_type": "code",
   "execution_count": 151,
   "metadata": {},
   "outputs": [],
   "source": [
    "data['RATING']=[float(i) for i in data['RATING']]"
   ]
  },
  {
   "cell_type": "code",
   "execution_count": 152,
   "metadata": {},
   "outputs": [],
   "source": [
    "data['RATING'].fillna(-1,inplace=True)"
   ]
  },
  {
   "cell_type": "code",
   "execution_count": 153,
   "metadata": {},
   "outputs": [],
   "source": [
    "data['VOTES'].fillna('00 votes',inplace=True)"
   ]
  },
  {
   "cell_type": "code",
   "execution_count": 154,
   "metadata": {},
   "outputs": [],
   "source": [
    "data['VOTES'] = data['VOTES'].str.split(' ').str[0]"
   ]
  },
  {
   "cell_type": "code",
   "execution_count": 155,
   "metadata": {},
   "outputs": [],
   "source": [
    "data['VOTES']=[float(i) for i in data['VOTES']]"
   ]
  },
  {
   "cell_type": "code",
   "execution_count": 156,
   "metadata": {
    "scrolled": true
   },
   "outputs": [
    {
     "data": {
      "text/plain": [
       "QUICK BITES               4218\n",
       "CASUAL DINING             3652\n",
       "None                      1003\n",
       "CAFÉ                       607\n",
       "DESSERT PARLOR             382\n",
       "CASUAL DINING,BAR          349\n",
       "FINE DINING                308\n",
       "BAKERY                     302\n",
       "BEVERAGE SHOP              156\n",
       "BAR,CASUAL DINING          128\n",
       "LOUNGE                      98\n",
       "BAKERY,QUICK BITES          92\n",
       "BAR                         91\n",
       "FOOD COURT                  78\n",
       "CASUAL DINING,CAFÉ          56\n",
       "MESS                        53\n",
       "KIOSK                       53\n",
       "BAKERY,DESSERT PARLOR       51\n",
       "PUB                         50\n",
       "SWEET SHOP,QUICK BITES      48\n",
       "Name: TITLE, dtype: int64"
      ]
     },
     "execution_count": 156,
     "metadata": {},
     "output_type": "execute_result"
    }
   ],
   "source": [
    "data['TITLE'].value_counts()[0:20]"
   ]
  },
  {
   "cell_type": "code",
   "execution_count": 157,
   "metadata": {},
   "outputs": [
    {
     "data": {
      "text/plain": [
       "347.3027501185396"
      ]
     },
     "execution_count": 157,
     "metadata": {},
     "output_type": "execute_result"
    }
   ],
   "source": [
    "data[data['TITLE']=='QUICK BITES']['COST'].mean()"
   ]
  },
  {
   "cell_type": "code",
   "execution_count": 158,
   "metadata": {},
   "outputs": [
    {
     "data": {
      "text/plain": [
       "770.8324205914568"
      ]
     },
     "execution_count": 158,
     "metadata": {},
     "output_type": "execute_result"
    }
   ],
   "source": [
    "data[data['TITLE']=='CASUAL DINING']['COST'].mean()"
   ]
  },
  {
   "cell_type": "code",
   "execution_count": 159,
   "metadata": {},
   "outputs": [
    {
     "data": {
      "text/plain": [
       "415.55333998005983"
      ]
     },
     "execution_count": 159,
     "metadata": {},
     "output_type": "execute_result"
    }
   ],
   "source": [
    "data[data['TITLE']=='None']['COST'].mean()"
   ]
  },
  {
   "cell_type": "code",
   "execution_count": 160,
   "metadata": {},
   "outputs": [
    {
     "data": {
      "text/plain": [
       "656.836902800659"
      ]
     },
     "execution_count": 160,
     "metadata": {},
     "output_type": "execute_result"
    }
   ],
   "source": [
    "data[data['TITLE']=='CAFÉ']['COST'].mean()"
   ]
  },
  {
   "cell_type": "code",
   "execution_count": 161,
   "metadata": {},
   "outputs": [],
   "source": [
    "data['QB']=[1 if i=='QUICK BITES' else 0 for i in data['TITLE']]\n",
    "data['CD']=[1 if i=='CASUAL DINING' else 0 for i in data['TITLE']]\n",
    "data['NN']=[1 if i=='None' else 0 for i in data['TITLE']]\n",
    "data['CF']=[1 if i=='CAFÉ' else 0 for i in data['TITLE']]\n",
    "data['CDB']=[1 if i=='CASUAL DINING,BAR' else 0 for i in data['TITLE']]\n",
    "data['DP']=[1 if i=='DESSERT PARLOR' else 0 for i in data['TITLE']]\n",
    "data['FD']=[1 if i=='FINE DINING ' else 0 for i in data['TITLE']]\n",
    "data['BKR']=[1 if i=='BAKERY ' else 0 for i in data['TITLE']]\n",
    "data['BS']=[1 if i=='BEVERAGE SHOP' else 0 for i in data['TITLE']]\n",
    "data['BCD']=[1 if i=='BAR,CASUAL DINING' else 0 for i in data['TITLE']]"
   ]
  },
  {
   "cell_type": "code",
   "execution_count": 162,
   "metadata": {},
   "outputs": [
    {
     "data": {
      "image/png": "[encoded data removed]",
      "text/plain": [
       "<Figure size 432x288 with 1 Axes>"
      ]
     },
     "metadata": {
      "needs_background": "light"
     },
     "output_type": "display_data"
    }
   ],
   "source": [
    "data.drop('COST',axis=1).corrwith(data['COST']).plot(kind='bar')\n",
    "plt.show()"
   ]
  },
  {
   "cell_type": "code",
   "execution_count": 163,
   "metadata": {},
   "outputs": [],
   "source": [
    "data['CUISINES'].fillna('South Indian',inplace=True)"
   ]
  },
  {
   "cell_type": "code",
   "execution_count": 164,
   "metadata": {},
   "outputs": [],
   "source": [
    "import re\n",
    "g=[]\n",
    "for i in data['CUISINES']:\n",
    "    a=re.split(', ',i)\n",
    "    for k in a:\n",
    "        g.append(k)"
   ]
  },
  {
   "cell_type": "code",
   "execution_count": 165,
   "metadata": {},
   "outputs": [
    {
     "data": {
      "text/plain": [
       "North Indian    5380\n",
       "Chinese         4362\n",
       "South Indian    2273\n",
       "Fast Food       2120\n",
       "Continental     1563\n",
       "Biryani         1259\n",
       "Italian         1144\n",
       "Desserts        1140\n",
       "Beverages        964\n",
       "Cafe             830\n",
       "dtype: int64"
      ]
     },
     "execution_count": 165,
     "metadata": {},
     "output_type": "execute_result"
    }
   ],
   "source": [
    "G=pd.Series(g)\n",
    "G.value_counts()[0:10]"
   ]
  },
  {
   "cell_type": "code",
   "execution_count": 166,
   "metadata": {},
   "outputs": [
    {
     "data": {
      "text/plain": [
       "South Indian                           532\n",
       "North Indian                           526\n",
       "North Indian, Chinese                  501\n",
       "Fast Food                              286\n",
       "Chinese                                167\n",
       "Bakery                                 148\n",
       "Bakery, Desserts                       148\n",
       "South Indian, North Indian, Chinese    139\n",
       "Cafe                                   134\n",
       "Kerala                                 131\n",
       "Biryani                                129\n",
       "Street Food                            121\n",
       "Chinese, North Indian                  119\n",
       "South Indian, North Indian             106\n",
       "North Indian, Mughlai                  102\n",
       "North Indian, Chinese, Biryani          91\n",
       "Desserts                                87\n",
       "Finger Food                             87\n",
       "North Indian, South Indian, Chinese     87\n",
       "Ice Cream, Desserts                     81\n",
       "Name: CUISINES, dtype: int64"
      ]
     },
     "execution_count": 166,
     "metadata": {},
     "output_type": "execute_result"
    }
   ],
   "source": [
    "data['CUISINES'].value_counts()[0:20]"
   ]
  },
  {
   "cell_type": "code",
   "execution_count": 167,
   "metadata": {},
   "outputs": [],
   "source": [
    "data['NI']=[1 if ('North Indian' in re.split(', ',i))else 0 for i in data['CUISINES']]\n",
    "data['CH']=[1 if ('Chinese' in re.split(', ',i))else 0 for i in data['CUISINES']]\n",
    "data['SI']=[1 if ('South Indian' in re.split(', ',i))else 0 for i in data['CUISINES']]\n",
    "data['FF']=[1 if ('Fast Food' in re.split(', ',i))else 0 for i in data['CUISINES']]\n",
    "data['CNT']=[1 if ('Continental' in re.split(', ',i))else 0 for i in data['CUISINES']]\n",
    "data['BRN']=[1 if ('Biryani' in re.split(', ',i))else 0 for i in data['CUISINES']]\n",
    "data['ITL']=[1 if ('Italian' in re.split(', ',i))else 0 for i in data['CUISINES']]\n",
    "data['DST']=[1 if ('Desserts' in re.split(', ',i))else 0 for i in data['CUISINES']]\n",
    "data['BVG']=[1 if ('Beverages' in re.split(', ',i))else 0 for i in data['CUISINES']]\n",
    "data['CFA']=[1 if ('Cafe' in re.split(', ',i))else 0 for i in data['CUISINES']]\n"
   ]
  },
  {
   "cell_type": "code",
   "execution_count": 168,
   "metadata": {},
   "outputs": [
    {
     "data": {
      "image/png": "[encoded data removed]",
      "text/plain": [
       "<Figure size 432x288 with 1 Axes>"
      ]
     },
     "metadata": {
      "needs_background": "light"
     },
     "output_type": "display_data"
    }
   ],
   "source": [
    "data.drop('COST',axis=1).corrwith(data['COST']).plot(kind='bar')\n",
    "plt.show()"
   ]
  },
  {
   "cell_type": "code",
   "execution_count": 169,
   "metadata": {},
   "outputs": [
    {
     "data": {
      "text/plain": [
       "Chennai          2174\n",
       "Bangalore        2149\n",
       "Hyderabad        1819\n",
       "Mumbai           1722\n",
       "New Delhi        1321\n",
       "Kochi            1279\n",
       "Gurgaon           379\n",
       "Secunderabad      310\n",
       "Noida             211\n",
       "Navi Mumbai       165\n",
       "Ghaziabad         102\n",
       "Thane              97\n",
       "Faridabad          79\n",
       "Bandra West        69\n",
       "Thane West         52\n",
       "Andheri West       48\n",
       "Bengaluru          42\n",
       "Greater Noida      31\n",
       "India              23\n",
       "Kakkanad           15\n",
       "Name: CITY, dtype: int64"
      ]
     },
     "execution_count": 169,
     "metadata": {},
     "output_type": "execute_result"
    }
   ],
   "source": [
    "data['CITY'].value_counts()[0:20]"
   ]
  },
  {
   "cell_type": "code",
   "execution_count": 170,
   "metadata": {},
   "outputs": [
    {
     "data": {
      "text/plain": [
       "865.2729384436701"
      ]
     },
     "execution_count": 170,
     "metadata": {},
     "output_type": "execute_result"
    }
   ],
   "source": [
    "data[data['CITY']=='Mumbai']['COST'].mean()"
   ]
  },
  {
   "cell_type": "code",
   "execution_count": 171,
   "metadata": {},
   "outputs": [
    {
     "data": {
      "text/plain": [
       "1275.3623188405797"
      ]
     },
     "execution_count": 171,
     "metadata": {},
     "output_type": "execute_result"
    }
   ],
   "source": [
    "data[data['CITY']=='Bandra West']['COST'].mean()"
   ]
  },
  {
   "cell_type": "code",
   "execution_count": 172,
   "metadata": {},
   "outputs": [
    {
     "data": {
      "text/plain": [
       "853.125"
      ]
     },
     "execution_count": 172,
     "metadata": {},
     "output_type": "execute_result"
    }
   ],
   "source": [
    "data[data['CITY']=='Andheri West']['COST'].mean()"
   ]
  },
  {
   "cell_type": "code",
   "execution_count": 173,
   "metadata": {},
   "outputs": [
    {
     "data": {
      "text/plain": [
       "667.5757575757576"
      ]
     },
     "execution_count": 173,
     "metadata": {},
     "output_type": "execute_result"
    }
   ],
   "source": [
    "data[data['CITY']=='Navi Mumbai']['COST'].mean()"
   ]
  },
  {
   "cell_type": "code",
   "execution_count": 174,
   "metadata": {},
   "outputs": [
    {
     "data": {
      "text/plain": [
       "588.5878564857405"
      ]
     },
     "execution_count": 174,
     "metadata": {},
     "output_type": "execute_result"
    }
   ],
   "source": [
    "data[data['CITY']=='Chennai']['COST'].mean()"
   ]
  },
  {
   "cell_type": "code",
   "execution_count": 175,
   "metadata": {},
   "outputs": [],
   "source": [
    "data['CITY_CHNNY']=[1 if i=='Chennai' else 0 for i in data['CITY']]\n",
    "data['CITY_BNG']=[1 if i=='Bangalore' else 0 for i in data['CITY']]\n",
    "data['CITY_HYBD']=[1 if i=='Hyderabad' else 0 for i in data['CITY']]\n",
    "data['CITY_MUM']=[1 if i=='Mumbai' else 0 for i in data['CITY']]\n",
    "data['CITY_NDL']=[1 if i=='New Delhi' else 0 for i in data['CITY']]\n",
    "data['CITY_KCH']=[1 if i=='Kochi' else 0 for i in data['CITY']]\n",
    "data['CITY_GRG']=[1 if i=='Gurgaon' else 0 for i in data['CITY']]\n",
    "data['CITY_SCR']=[1 if i=='Secunderabad' else 0 for i in data['CITY']]\n",
    "data['CITY_NOD']=[1 if i=='Noida' else 0 for i in data['CITY']]\n",
    "data['CITY_NMUM']=[1 if i=='Navi Mumbai' else 0 for i in data['CITY']]\n",
    "data['CITY_GZB']=[1 if i=='Ghaziabad' else 0 for i in data['CITY']]\n",
    "data['CITY_THN']=[1 if i=='Thane' else 0 for i in data['CITY']]\n",
    "data['CITY_FDB']=[1 if i=='Faridabad' else 0 for i in data['CITY']]\n",
    "data['CITY_BWMUM']=[1 if i=='Bandra West' else 0 for i in data['CITY']]\n"
   ]
  },
  {
   "cell_type": "code",
   "execution_count": 176,
   "metadata": {},
   "outputs": [
    {
     "data": {
      "image/png": "[encoded data removed]",
      "text/plain": [
       "<Figure size 432x288 with 1 Axes>"
      ]
     },
     "metadata": {
      "needs_background": "light"
     },
     "output_type": "display_data"
    }
   ],
   "source": [
    "data.drop('COST',axis=1).corrwith(data['COST']).plot(kind='bar')\n",
    "plt.show()"
   ]
  },
  {
   "cell_type": "code",
   "execution_count": 177,
   "metadata": {},
   "outputs": [
    {
     "data": {
      "text/plain": [
       "Gachibowli       166\n",
       "Indiranagar      138\n",
       "Edappally        122\n",
       "Kakkanad         121\n",
       "HSR              120\n",
       "Kukatpally       117\n",
       "Madhapur         117\n",
       "Marathahalli     116\n",
       "Jubilee Hills    113\n",
       "Banjara Hills    113\n",
       "Whitefield       111\n",
       "Fort Kochi       103\n",
       "BTM               99\n",
       "Jayanagar         96\n",
       "Nungambakkam      93\n",
       "MG Road           92\n",
       "T. Nagar          92\n",
       "Kaloor            91\n",
       "Andheri West      89\n",
       "Kondapur          87\n",
       "Name: LOCALITY, dtype: int64"
      ]
     },
     "execution_count": 177,
     "metadata": {},
     "output_type": "execute_result"
    }
   ],
   "source": [
    "data['LOCALITY'].value_counts()[0:20]"
   ]
  },
  {
   "cell_type": "markdown",
   "metadata": {},
   "source": [
    "None of the locality category represent more than 1.5% of the dataset."
   ]
  },
  {
   "cell_type": "code",
   "execution_count": 178,
   "metadata": {},
   "outputs": [],
   "source": [
    "data['CITY'].fillna(\"XXX\",inplace = True)\n",
    "data['LOCALITY'].fillna(\"XXX\",inplace = True)\n",
    "\n",
    "from sklearn.preprocessing import LabelEncoder\n",
    "le=LabelEncoder()\n",
    "data['CITY']=le.fit_transform(data['CITY'])\n",
    "data['LOCALITY']=le.fit_transform(data['LOCALITY'])"
   ]
  },
  {
   "cell_type": "code",
   "execution_count": 179,
   "metadata": {},
   "outputs": [
    {
     "data": {
      "text/plain": [
       "12690"
      ]
     },
     "execution_count": 179,
     "metadata": {},
     "output_type": "execute_result"
    }
   ],
   "source": [
    "index=[1 if type(i)==str else 0 for i in data['CITY']]\n",
    "len(index)-sum(index)"
   ]
  },
  {
   "cell_type": "code",
   "execution_count": 180,
   "metadata": {
    "scrolled": true
   },
   "outputs": [
    {
     "data": {
      "text/plain": [
       "0                                 Mon-Sun)\n",
       "1                                 Mon-Sun)\n",
       "2                                 Mon-Sun)\n",
       "3                                 Mon-Sun)\n",
       "4                                 Mon-Sun)\n",
       "                       ...                \n",
       "12685          Mon, Tue, Wed, Thu, Sun)...\n",
       "12686    Mon-Fri),11am – 5pm, 7pm – 1am...\n",
       "12687                             Mon-Sun)\n",
       "12688                             Mon-Sun)\n",
       "12689                             Mon-Sun)\n",
       "Name: DAYS, Length: 12690, dtype: object"
      ]
     },
     "execution_count": 180,
     "metadata": {},
     "output_type": "execute_result"
    }
   ],
   "source": [
    "data['DAYS'] = data['TIME'].str.split('(').str[1]\n",
    "data['DAYS']"
   ]
  },
  {
   "cell_type": "code",
   "execution_count": 181,
   "metadata": {
    "scrolled": true
   },
   "outputs": [
    {
     "data": {
      "text/plain": [
       "Mon-Sun)                                    10825\n",
       "Mon-Sat),Closed                                95\n",
       "Mon, Wed, Thu, Fri, Sat, Sun)...               68\n",
       "Mon, Tue, Wed, Thu, Sun)...                    37\n",
       "Mon, Wed, Thu, Fri, Sat, Sun), Closed...       33\n",
       "                                            ...  \n",
       "Mon, Wed), 12noon – 11pm...                     1\n",
       "Mon-Sat),10am – 10pm                            1\n",
       "Mon),12:30pm –...                               1\n",
       "Mon, Tue, Wed, Fri, Sat, Sun), 5pm –...         1\n",
       "Mon-Fri),7am – 1am                              1\n",
       "Name: DAYS, Length: 825, dtype: int64"
      ]
     },
     "execution_count": 181,
     "metadata": {},
     "output_type": "execute_result"
    }
   ],
   "source": [
    "data['DAYS'].value_counts()"
   ]
  },
  {
   "cell_type": "markdown",
   "metadata": {},
   "source": [
    "More than 85% data in Time columns represented by Mon-Sun)"
   ]
  },
  {
   "cell_type": "code",
   "execution_count": 182,
   "metadata": {},
   "outputs": [],
   "source": [
    "data['ALL_DAYS']=[1 if i=='Mon-Sun)' else 0 for i in data['DAYS']]"
   ]
  },
  {
   "cell_type": "code",
   "execution_count": 183,
   "metadata": {},
   "outputs": [],
   "source": [
    "numerics = ['int16', 'int32', 'int64', 'float16', 'float32', 'float64']\n",
    "\n",
    "Data = pd.DataFrame(data.select_dtypes(include=numerics))"
   ]
  },
  {
   "cell_type": "code",
   "execution_count": 184,
   "metadata": {},
   "outputs": [
    {
     "data": {
      "text/html": [
       "<div>\n",
       "<style scoped>\n",
       "    .dataframe tbody tr th:only-of-type {\n",
       "        vertical-align: middle;\n",
       "    }\n",
       "\n",
       "    .dataframe tbody tr th {\n",
       "        vertical-align: top;\n",
       "    }\n",
       "\n",
       "    .dataframe thead th {\n",
       "        text-align: right;\n",
       "    }\n",
       "</style>\n",
       "<table border=\"1\" class=\"dataframe\">\n",
       "  <thead>\n",
       "    <tr style=\"text-align: right;\">\n",
       "      <th></th>\n",
       "      <th>RESTAURANT_ID</th>\n",
       "      <th>CITY</th>\n",
       "      <th>LOCALITY</th>\n",
       "      <th>RATING</th>\n",
       "      <th>VOTES</th>\n",
       "      <th>COST</th>\n",
       "      <th>QB</th>\n",
       "      <th>CD</th>\n",
       "      <th>NN</th>\n",
       "      <th>CF</th>\n",
       "      <th>...</th>\n",
       "      <th>CITY_KCH</th>\n",
       "      <th>CITY_GRG</th>\n",
       "      <th>CITY_SCR</th>\n",
       "      <th>CITY_NOD</th>\n",
       "      <th>CITY_NMUM</th>\n",
       "      <th>CITY_GZB</th>\n",
       "      <th>CITY_THN</th>\n",
       "      <th>CITY_FDB</th>\n",
       "      <th>CITY_BWMUM</th>\n",
       "      <th>ALL_DAYS</th>\n",
       "    </tr>\n",
       "  </thead>\n",
       "  <tbody>\n",
       "    <tr>\n",
       "      <th>count</th>\n",
       "      <td>12690.000000</td>\n",
       "      <td>12690.000000</td>\n",
       "      <td>12690.000000</td>\n",
       "      <td>12690.000000</td>\n",
       "      <td>12690.000000</td>\n",
       "      <td>12690.000000</td>\n",
       "      <td>12690.000000</td>\n",
       "      <td>12690.000000</td>\n",
       "      <td>12690.000000</td>\n",
       "      <td>12690.000000</td>\n",
       "      <td>...</td>\n",
       "      <td>12690.000000</td>\n",
       "      <td>12690.000000</td>\n",
       "      <td>12690.000000</td>\n",
       "      <td>12690.000000</td>\n",
       "      <td>12690.000000</td>\n",
       "      <td>12690.000000</td>\n",
       "      <td>12690.000000</td>\n",
       "      <td>12690.000000</td>\n",
       "      <td>12690.000000</td>\n",
       "      <td>12690.000000</td>\n",
       "    </tr>\n",
       "    <tr>\n",
       "      <th>mean</th>\n",
       "      <td>7759.134121</td>\n",
       "      <td>144.753743</td>\n",
       "      <td>660.498266</td>\n",
       "      <td>3.331418</td>\n",
       "      <td>376.231127</td>\n",
       "      <td>655.252246</td>\n",
       "      <td>0.332388</td>\n",
       "      <td>0.287786</td>\n",
       "      <td>0.079039</td>\n",
       "      <td>0.047833</td>\n",
       "      <td>...</td>\n",
       "      <td>0.100788</td>\n",
       "      <td>0.029866</td>\n",
       "      <td>0.024429</td>\n",
       "      <td>0.016627</td>\n",
       "      <td>0.013002</td>\n",
       "      <td>0.008038</td>\n",
       "      <td>0.007644</td>\n",
       "      <td>0.006225</td>\n",
       "      <td>0.005437</td>\n",
       "      <td>0.853034</td>\n",
       "    </tr>\n",
       "    <tr>\n",
       "      <th>std</th>\n",
       "      <td>4504.874150</td>\n",
       "      <td>85.773271</td>\n",
       "      <td>403.368172</td>\n",
       "      <td>1.458773</td>\n",
       "      <td>810.946942</td>\n",
       "      <td>627.003540</td>\n",
       "      <td>0.471088</td>\n",
       "      <td>0.452749</td>\n",
       "      <td>0.269810</td>\n",
       "      <td>0.213421</td>\n",
       "      <td>...</td>\n",
       "      <td>0.301060</td>\n",
       "      <td>0.170224</td>\n",
       "      <td>0.154382</td>\n",
       "      <td>0.127875</td>\n",
       "      <td>0.113289</td>\n",
       "      <td>0.089296</td>\n",
       "      <td>0.087098</td>\n",
       "      <td>0.078658</td>\n",
       "      <td>0.073541</td>\n",
       "      <td>0.354086</td>\n",
       "    </tr>\n",
       "    <tr>\n",
       "      <th>min</th>\n",
       "      <td>0.000000</td>\n",
       "      <td>0.000000</td>\n",
       "      <td>0.000000</td>\n",
       "      <td>-1.000000</td>\n",
       "      <td>0.000000</td>\n",
       "      <td>20.000000</td>\n",
       "      <td>0.000000</td>\n",
       "      <td>0.000000</td>\n",
       "      <td>0.000000</td>\n",
       "      <td>0.000000</td>\n",
       "      <td>...</td>\n",
       "      <td>0.000000</td>\n",
       "      <td>0.000000</td>\n",
       "      <td>0.000000</td>\n",
       "      <td>0.000000</td>\n",
       "      <td>0.000000</td>\n",
       "      <td>0.000000</td>\n",
       "      <td>0.000000</td>\n",
       "      <td>0.000000</td>\n",
       "      <td>0.000000</td>\n",
       "      <td>0.000000</td>\n",
       "    </tr>\n",
       "    <tr>\n",
       "      <th>25%</th>\n",
       "      <td>3863.250000</td>\n",
       "      <td>67.000000</td>\n",
       "      <td>337.000000</td>\n",
       "      <td>3.400000</td>\n",
       "      <td>39.250000</td>\n",
       "      <td>300.000000</td>\n",
       "      <td>0.000000</td>\n",
       "      <td>0.000000</td>\n",
       "      <td>0.000000</td>\n",
       "      <td>0.000000</td>\n",
       "      <td>...</td>\n",
       "      <td>0.000000</td>\n",
       "      <td>0.000000</td>\n",
       "      <td>0.000000</td>\n",
       "      <td>0.000000</td>\n",
       "      <td>0.000000</td>\n",
       "      <td>0.000000</td>\n",
       "      <td>0.000000</td>\n",
       "      <td>0.000000</td>\n",
       "      <td>0.000000</td>\n",
       "      <td>1.000000</td>\n",
       "    </tr>\n",
       "    <tr>\n",
       "      <th>50%</th>\n",
       "      <td>7740.000000</td>\n",
       "      <td>131.000000</td>\n",
       "      <td>590.000000</td>\n",
       "      <td>3.800000</td>\n",
       "      <td>132.000000</td>\n",
       "      <td>500.000000</td>\n",
       "      <td>0.000000</td>\n",
       "      <td>0.000000</td>\n",
       "      <td>0.000000</td>\n",
       "      <td>0.000000</td>\n",
       "      <td>...</td>\n",
       "      <td>0.000000</td>\n",
       "      <td>0.000000</td>\n",
       "      <td>0.000000</td>\n",
       "      <td>0.000000</td>\n",
       "      <td>0.000000</td>\n",
       "      <td>0.000000</td>\n",
       "      <td>0.000000</td>\n",
       "      <td>0.000000</td>\n",
       "      <td>0.000000</td>\n",
       "      <td>1.000000</td>\n",
       "    </tr>\n",
       "    <tr>\n",
       "      <th>75%</th>\n",
       "      <td>11688.750000</td>\n",
       "      <td>222.000000</td>\n",
       "      <td>1011.000000</td>\n",
       "      <td>4.000000</td>\n",
       "      <td>405.000000</td>\n",
       "      <td>800.000000</td>\n",
       "      <td>1.000000</td>\n",
       "      <td>1.000000</td>\n",
       "      <td>0.000000</td>\n",
       "      <td>0.000000</td>\n",
       "      <td>...</td>\n",
       "      <td>0.000000</td>\n",
       "      <td>0.000000</td>\n",
       "      <td>0.000000</td>\n",
       "      <td>0.000000</td>\n",
       "      <td>0.000000</td>\n",
       "      <td>0.000000</td>\n",
       "      <td>0.000000</td>\n",
       "      <td>0.000000</td>\n",
       "      <td>0.000000</td>\n",
       "      <td>1.000000</td>\n",
       "    </tr>\n",
       "    <tr>\n",
       "      <th>max</th>\n",
       "      <td>15573.000000</td>\n",
       "      <td>359.000000</td>\n",
       "      <td>1416.000000</td>\n",
       "      <td>4.900000</td>\n",
       "      <td>41186.000000</td>\n",
       "      <td>14000.000000</td>\n",
       "      <td>1.000000</td>\n",
       "      <td>1.000000</td>\n",
       "      <td>1.000000</td>\n",
       "      <td>1.000000</td>\n",
       "      <td>...</td>\n",
       "      <td>1.000000</td>\n",
       "      <td>1.000000</td>\n",
       "      <td>1.000000</td>\n",
       "      <td>1.000000</td>\n",
       "      <td>1.000000</td>\n",
       "      <td>1.000000</td>\n",
       "      <td>1.000000</td>\n",
       "      <td>1.000000</td>\n",
       "      <td>1.000000</td>\n",
       "      <td>1.000000</td>\n",
       "    </tr>\n",
       "  </tbody>\n",
       "</table>\n",
       "<p>8 rows × 41 columns</p>\n",
       "</div>"
      ],
      "text/plain": [
       "       RESTAURANT_ID          CITY      LOCALITY        RATING         VOTES  \\\n",
       "count   12690.000000  12690.000000  12690.000000  12690.000000  12690.000000   \n",
       "mean     7759.134121    144.753743    660.498266      3.331418    376.231127   \n",
       "std      4504.874150     85.773271    403.368172      1.458773    810.946942   \n",
       "min         0.000000      0.000000      0.000000     -1.000000      0.000000   \n",
       "25%      3863.250000     67.000000    337.000000      3.400000     39.250000   \n",
       "50%      7740.000000    131.000000    590.000000      3.800000    132.000000   \n",
       "75%     11688.750000    222.000000   1011.000000      4.000000    405.000000   \n",
       "max     15573.000000    359.000000   1416.000000      4.900000  41186.000000   \n",
       "\n",
       "               COST            QB            CD            NN            CF  \\\n",
       "count  12690.000000  12690.000000  12690.000000  12690.000000  12690.000000   \n",
       "mean     655.252246      0.332388      0.287786      0.079039      0.047833   \n",
       "std      627.003540      0.471088      0.452749      0.269810      0.213421   \n",
       "min       20.000000      0.000000      0.000000      0.000000      0.000000   \n",
       "25%      300.000000      0.000000      0.000000      0.000000      0.000000   \n",
       "50%      500.000000      0.000000      0.000000      0.000000      0.000000   \n",
       "75%      800.000000      1.000000      1.000000      0.000000      0.000000   \n",
       "max    14000.000000      1.000000      1.000000      1.000000      1.000000   \n",
       "\n",
       "       ...      CITY_KCH      CITY_GRG      CITY_SCR      CITY_NOD  \\\n",
       "count  ...  12690.000000  12690.000000  12690.000000  12690.000000   \n",
       "mean   ...      0.100788      0.029866      0.024429      0.016627   \n",
       "std    ...      0.301060      0.170224      0.154382      0.127875   \n",
       "min    ...      0.000000      0.000000      0.000000      0.000000   \n",
       "25%    ...      0.000000      0.000000      0.000000      0.000000   \n",
       "50%    ...      0.000000      0.000000      0.000000      0.000000   \n",
       "75%    ...      0.000000      0.000000      0.000000      0.000000   \n",
       "max    ...      1.000000      1.000000      1.000000      1.000000   \n",
       "\n",
       "          CITY_NMUM      CITY_GZB      CITY_THN      CITY_FDB    CITY_BWMUM  \\\n",
       "count  12690.000000  12690.000000  12690.000000  12690.000000  12690.000000   \n",
       "mean       0.013002      0.008038      0.007644      0.006225      0.005437   \n",
       "std        0.113289      0.089296      0.087098      0.078658      0.073541   \n",
       "min        0.000000      0.000000      0.000000      0.000000      0.000000   \n",
       "25%        0.000000      0.000000      0.000000      0.000000      0.000000   \n",
       "50%        0.000000      0.000000      0.000000      0.000000      0.000000   \n",
       "75%        0.000000      0.000000      0.000000      0.000000      0.000000   \n",
       "max        1.000000      1.000000      1.000000      1.000000      1.000000   \n",
       "\n",
       "           ALL_DAYS  \n",
       "count  12690.000000  \n",
       "mean       0.853034  \n",
       "std        0.354086  \n",
       "min        0.000000  \n",
       "25%        1.000000  \n",
       "50%        1.000000  \n",
       "75%        1.000000  \n",
       "max        1.000000  \n",
       "\n",
       "[8 rows x 41 columns]"
      ]
     },
     "execution_count": 184,
     "metadata": {},
     "output_type": "execute_result"
    }
   ],
   "source": [
    "Data.describe()"
   ]
  },
  {
   "cell_type": "code",
   "execution_count": 185,
   "metadata": {
    "scrolled": true
   },
   "outputs": [],
   "source": [
    "#Data.drop('RESTAURANT_ID',axis=1,inplace=True)"
   ]
  },
  {
   "cell_type": "code",
   "execution_count": 186,
   "metadata": {},
   "outputs": [],
   "source": [
    "col_train=Data.columns"
   ]
  },
  {
   "cell_type": "code",
   "execution_count": 187,
   "metadata": {},
   "outputs": [],
   "source": [
    "y=Data['COST']\n",
    "x=Data.drop(['COST','RESTAURANT_ID'],axis=1)"
   ]
  },
  {
   "cell_type": "code",
   "execution_count": 188,
   "metadata": {},
   "outputs": [],
   "source": [
    "from sklearn.decomposition import PCA\n",
    "from sklearn.preprocessing import StandardScaler\n",
    "from sklearn.preprocessing import scale\n",
    "ss=StandardScaler()"
   ]
  },
  {
   "cell_type": "code",
   "execution_count": 189,
   "metadata": {},
   "outputs": [],
   "source": [
    "x=ss.fit_transform(x)\n",
    "y=scale(y)"
   ]
  },
  {
   "cell_type": "code",
   "execution_count": 190,
   "metadata": {},
   "outputs": [],
   "source": [
    "from sklearn.model_selection import train_test_split\n",
    "from sklearn.linear_model import LinearRegression\n",
    "from sklearn.metrics import mean_squared_error,r2_score\n",
    "from sklearn.tree import DecisionTreeRegressor\n",
    "tree=DecisionTreeRegressor()\n",
    "from sklearn.ensemble import RandomForestRegressor\n",
    "rf=RandomForestRegressor()\n",
    "from sklearn.neighbors import KNeighborsRegressor\n",
    "knr=KNeighborsRegressor()\n",
    "from sklearn.neural_network import MLPRegressor\n",
    "nn=MLPRegressor(hidden_layer_sizes=(50,25,5),max_iter=1000)\n",
    "lr=LinearRegression()\n",
    "from sklearn.model_selection import cross_val_score\n",
    "from sklearn.pipeline import Pipeline\n",
    "from sklearn.svm import SVR\n",
    "svr=SVR()"
   ]
  },
  {
   "cell_type": "code",
   "execution_count": 191,
   "metadata": {},
   "outputs": [
    {
     "name": "stdout",
     "output_type": "stream",
     "text": [
      "------------------------------------------------------------------------------------------ \n",
      " Pipeline(memory=None,\n",
      "         steps=[('PCA',\n",
      "                 PCA(copy=True, iterated_power='auto', n_components=5,\n",
      "                     random_state=None, svd_solver='auto', tol=0.0,\n",
      "                     whiten=False)),\n",
      "                ('model',\n",
      "                 LinearRegression(copy_X=True, fit_intercept=True, n_jobs=None,\n",
      "                                  normalize=False))],\n",
      "         verbose=False) \n",
      " ------------------------------------------------------------------------------------------\n",
      "0.6173388308752342\n",
      "------------------------------------------------------------------------------------------ \n",
      " Pipeline(memory=None,\n",
      "         steps=[('PCA',\n",
      "                 PCA(copy=True, iterated_power='auto', n_components=5,\n",
      "                     random_state=None, svd_solver='auto', tol=0.0,\n",
      "                     whiten=False)),\n",
      "                ('model',\n",
      "                 DecisionTreeRegressor(ccp_alpha=0.0, criterion='mse',\n",
      "                                       max_depth=None, max_features=None,\n",
      "                                       max_leaf_nodes=None,\n",
      "                                       min_impurity_decrease=0.0,\n",
      "                                       min_impurity_split=None,\n",
      "                                       min_samples_leaf=1, min_samples_split=2,\n",
      "                                       min_weight_fraction_leaf=0.0,\n",
      "                                       presort='deprecated', random_state=None,\n",
      "                                       splitter='best'))],\n",
      "         verbose=False) \n",
      " ------------------------------------------------------------------------------------------\n",
      "0.8437260117219786\n",
      "------------------------------------------------------------------------------------------ \n",
      " Pipeline(memory=None,\n",
      "         steps=[('PCA',\n",
      "                 PCA(copy=True, iterated_power='auto', n_components=5,\n",
      "                     random_state=None, svd_solver='auto', tol=0.0,\n",
      "                     whiten=False)),\n",
      "                ('model',\n",
      "                 KNeighborsRegressor(algorithm='auto', leaf_size=30,\n",
      "                                     metric='minkowski', metric_params=None,\n",
      "                                     n_jobs=None, n_neighbors=5, p=2,\n",
      "                                     weights='uniform'))],\n",
      "         verbose=False) \n",
      " ------------------------------------------------------------------------------------------\n",
      "0.5185241275278218\n",
      "------------------------------------------------------------------------------------------ \n",
      " Pipeline(memory=None,\n",
      "         steps=[('PCA',\n",
      "                 PCA(copy=True, iterated_power='auto', n_components=5,\n",
      "                     random_state=None, svd_solver='auto', tol=0.0,\n",
      "                     whiten=False)),\n",
      "                ('model',\n",
      "                 MLPRegressor(activation='relu', alpha=0.0001,\n",
      "                              batch_size='auto', beta_1=0.9, beta_2=0.999,\n",
      "                              early_stopping=False, epsilon=1e-08,\n",
      "                              hidden_layer_sizes=(50, 25, 5),\n",
      "                              learning_rate='constant',\n",
      "                              learning_rate_init=0.001, max_fun=15000,\n",
      "                              max_iter=1000, momentum=0.9, n_iter_no_change=10,\n",
      "                              nesterovs_momentum=True, power_t=0.5,\n",
      "                              random_state=None, shuffle=True, solver='adam',\n",
      "                              tol=0.0001, validation_fraction=0.1,\n",
      "                              verbose=False, warm_start=False))],\n",
      "         verbose=False) \n",
      " ------------------------------------------------------------------------------------------\n",
      "0.4659509522601616\n",
      "------------------------------------------------------------------------------------------ \n",
      " Pipeline(memory=None,\n",
      "         steps=[('PCA',\n",
      "                 PCA(copy=True, iterated_power='auto', n_components=5,\n",
      "                     random_state=None, svd_solver='auto', tol=0.0,\n",
      "                     whiten=False)),\n",
      "                ('model',\n",
      "                 SVR(C=1.0, cache_size=200, coef0=0.0, degree=3, epsilon=0.1,\n",
      "                     gamma='scale', kernel='rbf', max_iter=-1, shrinking=True,\n",
      "                     tol=0.001, verbose=False))],\n",
      "         verbose=False) \n",
      " ------------------------------------------------------------------------------------------\n",
      "0.535980765182095\n",
      "------------------------------------------------------------------------------------------ \n",
      " Pipeline(memory=None,\n",
      "         steps=[('PCA',\n",
      "                 PCA(copy=True, iterated_power='auto', n_components=5,\n",
      "                     random_state=None, svd_solver='auto', tol=0.0,\n",
      "                     whiten=False)),\n",
      "                ('model',\n",
      "                 RandomForestRegressor(bootstrap=True, ccp_alpha=0.0,\n",
      "                                       criterion='mse', max_depth=None,\n",
      "                                       max_features='auto', max_leaf_nodes=None,\n",
      "                                       max_samples=None,\n",
      "                                       min_impurity_decrease=0.0,\n",
      "                                       min_impurity_split=None,\n",
      "                                       min_samples_leaf=1, min_samples_split=2,\n",
      "                                       min_weight_fraction_leaf=0.0,\n",
      "                                       n_estimators=100, n_jobs=None,\n",
      "                                       oob_score=False, random_state=None,\n",
      "                                       verbose=0, warm_start=False))],\n",
      "         verbose=False) \n",
      " ------------------------------------------------------------------------------------------\n",
      "0.4788190127183799\n"
     ]
    }
   ],
   "source": [
    "X_train,X_test,y_train,y_test=train_test_split(x,y,test_size=0.20)\n",
    "models=[lr,tree,knr,nn,svr,rf]\n",
    "for model in models:\n",
    "    pipeline=Pipeline([('PCA',PCA(n_components=5)),('model',model)])\n",
    "    pipeline.fit(X_train,y_train)\n",
    "    print('---'*30,'\\n',pipeline,'\\n','---'*30)\n",
    "    print(mean_squared_error(pipeline.predict(X_test),y_test))"
   ]
  },
  {
   "cell_type": "code",
   "execution_count": 192,
   "metadata": {},
   "outputs": [
    {
     "name": "stdout",
     "output_type": "stream",
     "text": [
      "1 1.258043302960666\n",
      "2 0.6752084400578875\n",
      "3 0.5385546631392615\n",
      "4 0.5099949802516163\n",
      "5 0.48088370345585446\n",
      "6 0.45630406949417623\n",
      "7 0.47332846020694536\n",
      "8 0.456240906864834\n",
      "9 0.4478392174090207\n",
      "10 0.43746285652130656\n",
      "11 0.4353330897706664\n",
      "12 0.43346742420494444\n",
      "13 0.4533458903646982\n",
      "14 0.4479808586859537\n",
      "15 0.44450070018694754\n",
      "16 0.4482287524131808\n",
      "17 0.4480535258722803\n",
      "18 0.44605039221647863\n",
      "19 0.44252856114472644\n",
      "20 0.4614619858495337\n",
      "21 0.4469642465524635\n",
      "22 0.4455901694896081\n",
      "23 0.4560813688013678\n",
      "24 0.4560655803897781\n",
      "25 0.4542232238935289\n",
      "26 0.45357997678158735\n",
      "27 0.44799538290321916\n",
      "28 0.43856899197427307\n",
      "29 0.4377092154460808\n"
     ]
    }
   ],
   "source": [
    "for i in range(1,30):\n",
    "    pipeline=Pipeline([('PCA',PCA(n_components=i)),('RF',rf)])\n",
    "    pipeline.fit(X_train,y_train)\n",
    "    print(i, mean_squared_error(pipeline.predict(X_test),y_test))"
   ]
  },
  {
   "cell_type": "code",
   "execution_count": 194,
   "metadata": {},
   "outputs": [],
   "source": [
    "pipe_rf=Pipeline([('PCA',PCA(n_components=10)),('rf',rf)])\n",
    "scores=cross_val_score(pipe_knr,x,y,cv=3)"
   ]
  },
  {
   "cell_type": "code",
   "execution_count": 195,
   "metadata": {},
   "outputs": [
    {
     "data": {
      "text/plain": [
       "array([0.43077619, 0.46367537, 0.51784926])"
      ]
     },
     "execution_count": 195,
     "metadata": {},
     "output_type": "execute_result"
    }
   ],
   "source": [
    "scores"
   ]
  },
  {
   "cell_type": "code",
   "execution_count": 196,
   "metadata": {},
   "outputs": [
    {
     "data": {
      "text/plain": [
       "Pipeline(memory=None,\n",
       "         steps=[('PCA',\n",
       "                 PCA(copy=True, iterated_power='auto', n_components=10,\n",
       "                     random_state=None, svd_solver='auto', tol=0.0,\n",
       "                     whiten=False)),\n",
       "                ('rf',\n",
       "                 RandomForestRegressor(bootstrap=True, ccp_alpha=0.0,\n",
       "                                       criterion='mse', max_depth=None,\n",
       "                                       max_features='auto', max_leaf_nodes=None,\n",
       "                                       max_samples=None,\n",
       "                                       min_impurity_decrease=0.0,\n",
       "                                       min_impurity_split=None,\n",
       "                                       min_samples_leaf=1, min_samples_split=2,\n",
       "                                       min_weight_fraction_leaf=0.0,\n",
       "                                       n_estimators=100, n_jobs=None,\n",
       "                                       oob_score=False, random_state=None,\n",
       "                                       verbose=0, warm_start=False))],\n",
       "         verbose=False)"
      ]
     },
     "execution_count": 196,
     "metadata": {},
     "output_type": "execute_result"
    }
   ],
   "source": [
    "pipe_rf.fit(x,y)"
   ]
  },
  {
   "cell_type": "code",
   "execution_count": null,
   "metadata": {},
   "outputs": [],
   "source": [
    "scores"
   ]
  },
  {
   "cell_type": "code",
   "execution_count": 197,
   "metadata": {},
   "outputs": [
    {
     "data": {
      "text/plain": [
       "['rest_food.pkl']"
      ]
     },
     "execution_count": 197,
     "metadata": {},
     "output_type": "execute_result"
    }
   ],
   "source": [
    "from sklearn.externals import joblib\n",
    "joblib.dump(pipe_rf,'rest_food.pkl')"
   ]
  },
  {
   "cell_type": "code",
   "execution_count": 198,
   "metadata": {},
   "outputs": [
    {
     "name": "stderr",
     "output_type": "stream",
     "text": [
      "C:\\ProgramData\\Anaconda3\\lib\\site-packages\\ipykernel_launcher.py:2: SettingWithCopyWarning: \n",
      "A value is trying to be set on a copy of a slice from a DataFrame\n",
      "\n",
      "See the caveats in the documentation: https://pandas.pydata.org/pandas-docs/stable/user_guide/indexing.html#returning-a-view-versus-a-copy\n",
      "  \n",
      "C:\\ProgramData\\Anaconda3\\lib\\site-packages\\ipykernel_launcher.py:3: SettingWithCopyWarning: \n",
      "A value is trying to be set on a copy of a slice from a DataFrame\n",
      "\n",
      "See the caveats in the documentation: https://pandas.pydata.org/pandas-docs/stable/user_guide/indexing.html#returning-a-view-versus-a-copy\n",
      "  This is separate from the ipykernel package so we can avoid doing imports until\n"
     ]
    }
   ],
   "source": [
    "data=pd.read_excel('Data_Test.xlsx')\n",
    "data['RATING'][data['RATING']=='NEW']='-1'\n",
    "data['RATING'][data['RATING']=='-']='-1'\n",
    "data['RATING']=[float(i) for i in data['RATING']]\n",
    "data['RATING'].fillna(-1,inplace=True)\n",
    "data['VOTES'].fillna('00 votes',inplace=True)\n",
    "data['VOTES'] = data['VOTES'].str.split(' ').str[0]\n",
    "data['VOTES']=[float(i) for i in data['VOTES']]\n",
    "data['QB']=[1 if i=='QUICK BITES' else 0 for i in data['TITLE']]\n",
    "data['CD']=[1 if i=='CASUAL DINING' else 0 for i in data['TITLE']]\n",
    "data['NN']=[1 if i=='None' else 0 for i in data['TITLE']]\n",
    "data['CF']=[1 if i=='CAFÉ' else 0 for i in data['TITLE']]\n",
    "data['CDB']=[1 if i=='CASUAL DINING,BAR' else 0 for i in data['TITLE']]\n",
    "data['DP']=[1 if i=='DESSERT PARLOR' else 0 for i in data['TITLE']]\n",
    "data['FD']=[1 if i=='FINE DINING ' else 0 for i in data['TITLE']]\n",
    "data['BKR']=[1 if i=='BAKERY ' else 0 for i in data['TITLE']]\n",
    "data['BS']=[1 if i=='BEVERAGE SHOP' else 0 for i in data['TITLE']]\n",
    "data['BCD']=[1 if i=='BAR,CASUAL DINING' else 0 for i in data['TITLE']]\n",
    "data['CUISINES'].fillna('South Indian',inplace=True)\n",
    "data['NI']=[1 if ('North Indian' in re.split(', ',i))else 0 for i in data['CUISINES']]\n",
    "data['CH']=[1 if ('Chinese' in re.split(', ',i))else 0 for i in data['CUISINES']]\n",
    "data['SI']=[1 if ('South Indian' in re.split(', ',i))else 0 for i in data['CUISINES']]\n",
    "data['FF']=[1 if ('Fast Food' in re.split(', ',i))else 0 for i in data['CUISINES']]\n",
    "data['CNT']=[1 if ('Continental' in re.split(', ',i))else 0 for i in data['CUISINES']]\n",
    "data['BRN']=[1 if ('Biryani' in re.split(', ',i))else 0 for i in data['CUISINES']]\n",
    "data['ITL']=[1 if ('Italian' in re.split(', ',i))else 0 for i in data['CUISINES']]\n",
    "data['DST']=[1 if ('Desserts' in re.split(', ',i))else 0 for i in data['CUISINES']]\n",
    "data['BVG']=[1 if ('Beverages' in re.split(', ',i))else 0 for i in data['CUISINES']]\n",
    "data['CFA']=[1 if ('Cafe' in re.split(', ',i))else 0 for i in data['CUISINES']]\n",
    "data['CITY_CHNNY']=[1 if i=='Chennai' else 0 for i in data['CITY']]\n",
    "data['CITY_BNG']=[1 if i=='Bangalore' else 0 for i in data['CITY']]\n",
    "data['CITY_HYBD']=[1 if i=='Hyderabad' else 0 for i in data['CITY']]\n",
    "data['CITY_MUM']=[1 if i=='Mumbai' else 0 for i in data['CITY']]\n",
    "data['CITY_NDL']=[1 if i=='New Delhi' else 0 for i in data['CITY']]\n",
    "data['CITY_KCH']=[1 if i=='Kochi' else 0 for i in data['CITY']]\n",
    "data['CITY_GRG']=[1 if i=='Gurgaon' else 0 for i in data['CITY']]\n",
    "data['CITY_SCR']=[1 if i=='Secunderabad' else 0 for i in data['CITY']]\n",
    "data['CITY_NOD']=[1 if i=='Noida' else 0 for i in data['CITY']]\n",
    "data['CITY_NMUM']=[1 if i=='Navi Mumbai' else 0 for i in data['CITY']]\n",
    "data['CITY_GZB']=[1 if i=='Ghaziabad' else 0 for i in data['CITY']]\n",
    "data['CITY_THN']=[1 if i=='Thane' else 0 for i in data['CITY']]\n",
    "data['CITY_FDB']=[1 if i=='Faridabad' else 0 for i in data['CITY']]\n",
    "data['CITY_BWMUM']=[1 if i=='Bandra West' else 0 for i in data['CITY']]\n",
    "data['CITY'].fillna(\"XXX\",inplace = True)\n",
    "data['LOCALITY'].fillna(\"XXX\",inplace = True)\n",
    "data['CITY']=le.fit_transform(data['CITY'])\n",
    "data['LOCALITY']=le.fit_transform(data['LOCALITY'])\n",
    "data['DAYS'] = data['TIME'].str.split('(').str[1]\n",
    "data['ALL_DAYS']=[1 if i=='Mon-Sun)' else 0 for i in data['DAYS']]\n",
    "Data = pd.DataFrame(data.select_dtypes(include=numerics))\n",
    "\n",
    "x=Data.drop('RESTAURANT_ID',axis=1)\n",
    "x=ss.fit_transform(x)\n"
   ]
  },
  {
   "cell_type": "code",
   "execution_count": 200,
   "metadata": {},
   "outputs": [],
   "source": [
    "cost=pipe_rf.predict(x)"
   ]
  },
  {
   "cell_type": "code",
   "execution_count": 201,
   "metadata": {},
   "outputs": [],
   "source": [
    "target=pd.read_excel('Data_Train.xlsx')['COST']"
   ]
  },
  {
   "cell_type": "code",
   "execution_count": 205,
   "metadata": {},
   "outputs": [],
   "source": [
    "m=target.mean()"
   ]
  },
  {
   "cell_type": "code",
   "execution_count": 206,
   "metadata": {},
   "outputs": [],
   "source": [
    "s=target.std()"
   ]
  },
  {
   "cell_type": "code",
   "execution_count": 207,
   "metadata": {},
   "outputs": [],
   "source": [
    "cost=cost*s+m"
   ]
  },
  {
   "cell_type": "code",
   "execution_count": 208,
   "metadata": {},
   "outputs": [],
   "source": [
    "output=pd.DataFrame(cost)\n",
    "output.to_csv('fees_prediction.csv')"
   ]
  },
  {
   "cell_type": "code",
   "execution_count": null,
   "metadata": {},
   "outputs": [],
   "source": []
  }
 ],
 "metadata": {
  "kernelspec": {
   "display_name": "Python 3",
   "language": "python",
   "name": "python3"
  },
  "language_info": {
   "codemirror_mode": {
    "name": "ipython",
    "version": 3
   },
   "file_extension": ".py",
   "mimetype": "text/x-python",
   "name": "python",
   "nbconvert_exporter": "python",
   "pygments_lexer": "ipython3",
   "version": "3.7.6"
  }
 },
 "nbformat": 4,
 "nbformat_minor": 4
}
