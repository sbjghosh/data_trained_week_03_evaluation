{
 "cells": [
  {
   "cell_type": "code",
   "execution_count": 1,
   "metadata": {},
   "outputs": [],
   "source": [
    "import pandas as pd\n",
    "import numpy as np\n",
    "import matplotlib.pyplot as plt\n",
    "import seaborn as sns\n",
    "from mpl_toolkits import mplot3d\n",
    "%matplotlib inline"
   ]
  },
  {
   "cell_type": "code",
   "execution_count": 2,
   "metadata": {},
   "outputs": [
    {
     "data": {
      "text/html": [
       "<div>\n",
       "<style scoped>\n",
       "    .dataframe tbody tr th:only-of-type {\n",
       "        vertical-align: middle;\n",
       "    }\n",
       "\n",
       "    .dataframe tbody tr th {\n",
       "        vertical-align: top;\n",
       "    }\n",
       "\n",
       "    .dataframe thead th {\n",
       "        text-align: right;\n",
       "    }\n",
       "</style>\n",
       "<table border=\"1\" class=\"dataframe\">\n",
       "  <thead>\n",
       "    <tr style=\"text-align: right;\">\n",
       "      <th></th>\n",
       "      <th>Qualification</th>\n",
       "      <th>Experience</th>\n",
       "      <th>Rating</th>\n",
       "      <th>Place</th>\n",
       "      <th>Profile</th>\n",
       "      <th>Miscellaneous_Info</th>\n",
       "      <th>Fees</th>\n",
       "    </tr>\n",
       "  </thead>\n",
       "  <tbody>\n",
       "    <tr>\n",
       "      <th>0</th>\n",
       "      <td>BHMS, MD - Homeopathy</td>\n",
       "      <td>24 years experience</td>\n",
       "      <td>100%</td>\n",
       "      <td>Kakkanad, Ernakulam</td>\n",
       "      <td>Homeopath</td>\n",
       "      <td>100% 16 Feedback Kakkanad, Ernakulam</td>\n",
       "      <td>100</td>\n",
       "    </tr>\n",
       "    <tr>\n",
       "      <th>1</th>\n",
       "      <td>BAMS, MD - Ayurveda Medicine</td>\n",
       "      <td>12 years experience</td>\n",
       "      <td>98%</td>\n",
       "      <td>Whitefield, Bangalore</td>\n",
       "      <td>Ayurveda</td>\n",
       "      <td>98% 76 Feedback Whitefield, Bangalore</td>\n",
       "      <td>350</td>\n",
       "    </tr>\n",
       "    <tr>\n",
       "      <th>2</th>\n",
       "      <td>MBBS, MS - Otorhinolaryngology</td>\n",
       "      <td>9 years experience</td>\n",
       "      <td>NaN</td>\n",
       "      <td>Mathikere - BEL, Bangalore</td>\n",
       "      <td>ENT Specialist</td>\n",
       "      <td>NaN</td>\n",
       "      <td>300</td>\n",
       "    </tr>\n",
       "    <tr>\n",
       "      <th>3</th>\n",
       "      <td>BSc - Zoology, BAMS</td>\n",
       "      <td>12 years experience</td>\n",
       "      <td>NaN</td>\n",
       "      <td>Bannerghatta Road, Bangalore</td>\n",
       "      <td>Ayurveda</td>\n",
       "      <td>Bannerghatta Road, Bangalore ₹250 Available on...</td>\n",
       "      <td>250</td>\n",
       "    </tr>\n",
       "    <tr>\n",
       "      <th>4</th>\n",
       "      <td>BAMS</td>\n",
       "      <td>20 years experience</td>\n",
       "      <td>100%</td>\n",
       "      <td>Keelkattalai, Chennai</td>\n",
       "      <td>Ayurveda</td>\n",
       "      <td>100% 4 Feedback Keelkattalai, Chennai</td>\n",
       "      <td>250</td>\n",
       "    </tr>\n",
       "    <tr>\n",
       "      <th>5</th>\n",
       "      <td>BAMS</td>\n",
       "      <td>8 years experience</td>\n",
       "      <td>NaN</td>\n",
       "      <td>Porur, Chennai</td>\n",
       "      <td>Ayurveda</td>\n",
       "      <td>NaN</td>\n",
       "      <td>100</td>\n",
       "    </tr>\n",
       "    <tr>\n",
       "      <th>6</th>\n",
       "      <td>BHMS</td>\n",
       "      <td>42 years experience</td>\n",
       "      <td>NaN</td>\n",
       "      <td>Karol Bagh, Delhi</td>\n",
       "      <td>Homeopath</td>\n",
       "      <td>NaN</td>\n",
       "      <td>200</td>\n",
       "    </tr>\n",
       "    <tr>\n",
       "      <th>7</th>\n",
       "      <td>BDS</td>\n",
       "      <td>10 years experience</td>\n",
       "      <td>99%</td>\n",
       "      <td>Arekere, Bangalore</td>\n",
       "      <td>Dentist</td>\n",
       "      <td>Dental Fillings Crowns and Bridges Fixing Impa...</td>\n",
       "      <td>200</td>\n",
       "    </tr>\n",
       "    <tr>\n",
       "      <th>8</th>\n",
       "      <td>MBBS, MD - General Medicine</td>\n",
       "      <td>14 years experience</td>\n",
       "      <td>NaN</td>\n",
       "      <td>Old City, Hyderabad</td>\n",
       "      <td>General Medicine</td>\n",
       "      <td>NaN</td>\n",
       "      <td>100</td>\n",
       "    </tr>\n",
       "    <tr>\n",
       "      <th>9</th>\n",
       "      <td>BSc, BDS</td>\n",
       "      <td>23 years experience</td>\n",
       "      <td>NaN</td>\n",
       "      <td>Athani, Ernakulam</td>\n",
       "      <td>Dentist</td>\n",
       "      <td>NaN</td>\n",
       "      <td>100</td>\n",
       "    </tr>\n",
       "    <tr>\n",
       "      <th>10</th>\n",
       "      <td>MBBS, MS, DNB - ENT</td>\n",
       "      <td>5 years experience</td>\n",
       "      <td>NaN</td>\n",
       "      <td>Thousand Lights, Chennai</td>\n",
       "      <td>ENT Specialist</td>\n",
       "      <td>NaN</td>\n",
       "      <td>700</td>\n",
       "    </tr>\n",
       "    <tr>\n",
       "      <th>11</th>\n",
       "      <td>BAMS</td>\n",
       "      <td>7 years experience</td>\n",
       "      <td>NaN</td>\n",
       "      <td>Somajiguda, Hyderabad</td>\n",
       "      <td>Ayurveda</td>\n",
       "      <td>NaN</td>\n",
       "      <td>100</td>\n",
       "    </tr>\n",
       "    <tr>\n",
       "      <th>12</th>\n",
       "      <td>BDS, MDS</td>\n",
       "      <td>9 years experience</td>\n",
       "      <td>98%</td>\n",
       "      <td>Coimbatore Racecourse, Coimbatore</td>\n",
       "      <td>Dentist</td>\n",
       "      <td>98% 14 Feedback Coimbatore Racecourse, Coimbatore</td>\n",
       "      <td>200</td>\n",
       "    </tr>\n",
       "    <tr>\n",
       "      <th>13</th>\n",
       "      <td>BDS, MDS - Oral &amp; Maxillofacial Surgery</td>\n",
       "      <td>21 years experience</td>\n",
       "      <td>NaN</td>\n",
       "      <td>Jubilee Hills, Hyderabad</td>\n",
       "      <td>Dentist</td>\n",
       "      <td>Dental Crowns Facet Dental Dental prophylaxis</td>\n",
       "      <td>350</td>\n",
       "    </tr>\n",
       "    <tr>\n",
       "      <th>14</th>\n",
       "      <td>MBBS, Diploma in Otorhinolaryngology (DLO), DN...</td>\n",
       "      <td>12 years experience</td>\n",
       "      <td>NaN</td>\n",
       "      <td>Kondli, Delhi</td>\n",
       "      <td>ENT Specialist</td>\n",
       "      <td>NaN</td>\n",
       "      <td>500</td>\n",
       "    </tr>\n",
       "  </tbody>\n",
       "</table>\n",
       "</div>"
      ],
      "text/plain": [
       "                                        Qualification           Experience  \\\n",
       "0                               BHMS, MD - Homeopathy  24 years experience   \n",
       "1                        BAMS, MD - Ayurveda Medicine  12 years experience   \n",
       "2                      MBBS, MS - Otorhinolaryngology   9 years experience   \n",
       "3                                 BSc - Zoology, BAMS  12 years experience   \n",
       "4                                                BAMS  20 years experience   \n",
       "5                                                BAMS   8 years experience   \n",
       "6                                                BHMS  42 years experience   \n",
       "7                                                 BDS  10 years experience   \n",
       "8                         MBBS, MD - General Medicine  14 years experience   \n",
       "9                                            BSc, BDS  23 years experience   \n",
       "10                                MBBS, MS, DNB - ENT   5 years experience   \n",
       "11                                               BAMS   7 years experience   \n",
       "12                                           BDS, MDS   9 years experience   \n",
       "13            BDS, MDS - Oral & Maxillofacial Surgery  21 years experience   \n",
       "14  MBBS, Diploma in Otorhinolaryngology (DLO), DN...  12 years experience   \n",
       "\n",
       "   Rating                              Place           Profile  \\\n",
       "0    100%                Kakkanad, Ernakulam         Homeopath   \n",
       "1     98%              Whitefield, Bangalore          Ayurveda   \n",
       "2     NaN         Mathikere - BEL, Bangalore    ENT Specialist   \n",
       "3     NaN       Bannerghatta Road, Bangalore          Ayurveda   \n",
       "4    100%              Keelkattalai, Chennai          Ayurveda   \n",
       "5     NaN                     Porur, Chennai          Ayurveda   \n",
       "6     NaN                  Karol Bagh, Delhi         Homeopath   \n",
       "7     99%                 Arekere, Bangalore           Dentist   \n",
       "8     NaN                Old City, Hyderabad  General Medicine   \n",
       "9     NaN                  Athani, Ernakulam           Dentist   \n",
       "10    NaN           Thousand Lights, Chennai    ENT Specialist   \n",
       "11    NaN              Somajiguda, Hyderabad          Ayurveda   \n",
       "12    98%  Coimbatore Racecourse, Coimbatore           Dentist   \n",
       "13    NaN           Jubilee Hills, Hyderabad           Dentist   \n",
       "14    NaN                      Kondli, Delhi    ENT Specialist   \n",
       "\n",
       "                                   Miscellaneous_Info  Fees  \n",
       "0                100% 16 Feedback Kakkanad, Ernakulam   100  \n",
       "1               98% 76 Feedback Whitefield, Bangalore   350  \n",
       "2                                                 NaN   300  \n",
       "3   Bannerghatta Road, Bangalore ₹250 Available on...   250  \n",
       "4               100% 4 Feedback Keelkattalai, Chennai   250  \n",
       "5                                                 NaN   100  \n",
       "6                                                 NaN   200  \n",
       "7   Dental Fillings Crowns and Bridges Fixing Impa...   200  \n",
       "8                                                 NaN   100  \n",
       "9                                                 NaN   100  \n",
       "10                                                NaN   700  \n",
       "11                                                NaN   100  \n",
       "12  98% 14 Feedback Coimbatore Racecourse, Coimbatore   200  \n",
       "13      Dental Crowns Facet Dental Dental prophylaxis   350  \n",
       "14                                                NaN   500  "
      ]
     },
     "execution_count": 2,
     "metadata": {},
     "output_type": "execute_result"
    }
   ],
   "source": [
    "data=pd.read_excel('Final_Train.xlsx')\n",
    "data.head(15)"
   ]
  },
  {
   "cell_type": "code",
   "execution_count": 3,
   "metadata": {},
   "outputs": [
    {
     "data": {
      "text/html": [
       "<div>\n",
       "<style scoped>\n",
       "    .dataframe tbody tr th:only-of-type {\n",
       "        vertical-align: middle;\n",
       "    }\n",
       "\n",
       "    .dataframe tbody tr th {\n",
       "        vertical-align: top;\n",
       "    }\n",
       "\n",
       "    .dataframe thead th {\n",
       "        text-align: right;\n",
       "    }\n",
       "</style>\n",
       "<table border=\"1\" class=\"dataframe\">\n",
       "  <thead>\n",
       "    <tr style=\"text-align: right;\">\n",
       "      <th></th>\n",
       "      <th>Qualification</th>\n",
       "      <th>Experience</th>\n",
       "      <th>Rating</th>\n",
       "      <th>Place</th>\n",
       "      <th>Profile</th>\n",
       "      <th>Miscellaneous_Info</th>\n",
       "      <th>Fees</th>\n",
       "    </tr>\n",
       "  </thead>\n",
       "  <tbody>\n",
       "    <tr>\n",
       "      <th>count</th>\n",
       "      <td>5961</td>\n",
       "      <td>5961</td>\n",
       "      <td>2659</td>\n",
       "      <td>5936</td>\n",
       "      <td>5961</td>\n",
       "      <td>3341</td>\n",
       "      <td>5961.000000</td>\n",
       "    </tr>\n",
       "    <tr>\n",
       "      <th>unique</th>\n",
       "      <td>1420</td>\n",
       "      <td>64</td>\n",
       "      <td>51</td>\n",
       "      <td>877</td>\n",
       "      <td>6</td>\n",
       "      <td>2998</td>\n",
       "      <td>NaN</td>\n",
       "    </tr>\n",
       "    <tr>\n",
       "      <th>top</th>\n",
       "      <td>BDS</td>\n",
       "      <td>9 years experience</td>\n",
       "      <td>100%</td>\n",
       "      <td>HSR Layout, Bangalore</td>\n",
       "      <td>Dentist</td>\n",
       "      <td>Acrylic Partial Denture Crowns and Bridges Fix...</td>\n",
       "      <td>NaN</td>\n",
       "    </tr>\n",
       "    <tr>\n",
       "      <th>freq</th>\n",
       "      <td>488</td>\n",
       "      <td>323</td>\n",
       "      <td>684</td>\n",
       "      <td>75</td>\n",
       "      <td>1397</td>\n",
       "      <td>40</td>\n",
       "      <td>NaN</td>\n",
       "    </tr>\n",
       "    <tr>\n",
       "      <th>mean</th>\n",
       "      <td>NaN</td>\n",
       "      <td>NaN</td>\n",
       "      <td>NaN</td>\n",
       "      <td>NaN</td>\n",
       "      <td>NaN</td>\n",
       "      <td>NaN</td>\n",
       "      <td>307.944640</td>\n",
       "    </tr>\n",
       "    <tr>\n",
       "      <th>std</th>\n",
       "      <td>NaN</td>\n",
       "      <td>NaN</td>\n",
       "      <td>NaN</td>\n",
       "      <td>NaN</td>\n",
       "      <td>NaN</td>\n",
       "      <td>NaN</td>\n",
       "      <td>190.920373</td>\n",
       "    </tr>\n",
       "    <tr>\n",
       "      <th>min</th>\n",
       "      <td>NaN</td>\n",
       "      <td>NaN</td>\n",
       "      <td>NaN</td>\n",
       "      <td>NaN</td>\n",
       "      <td>NaN</td>\n",
       "      <td>NaN</td>\n",
       "      <td>5.000000</td>\n",
       "    </tr>\n",
       "    <tr>\n",
       "      <th>25%</th>\n",
       "      <td>NaN</td>\n",
       "      <td>NaN</td>\n",
       "      <td>NaN</td>\n",
       "      <td>NaN</td>\n",
       "      <td>NaN</td>\n",
       "      <td>NaN</td>\n",
       "      <td>150.000000</td>\n",
       "    </tr>\n",
       "    <tr>\n",
       "      <th>50%</th>\n",
       "      <td>NaN</td>\n",
       "      <td>NaN</td>\n",
       "      <td>NaN</td>\n",
       "      <td>NaN</td>\n",
       "      <td>NaN</td>\n",
       "      <td>NaN</td>\n",
       "      <td>300.000000</td>\n",
       "    </tr>\n",
       "    <tr>\n",
       "      <th>75%</th>\n",
       "      <td>NaN</td>\n",
       "      <td>NaN</td>\n",
       "      <td>NaN</td>\n",
       "      <td>NaN</td>\n",
       "      <td>NaN</td>\n",
       "      <td>NaN</td>\n",
       "      <td>500.000000</td>\n",
       "    </tr>\n",
       "    <tr>\n",
       "      <th>max</th>\n",
       "      <td>NaN</td>\n",
       "      <td>NaN</td>\n",
       "      <td>NaN</td>\n",
       "      <td>NaN</td>\n",
       "      <td>NaN</td>\n",
       "      <td>NaN</td>\n",
       "      <td>950.000000</td>\n",
       "    </tr>\n",
       "  </tbody>\n",
       "</table>\n",
       "</div>"
      ],
      "text/plain": [
       "       Qualification          Experience Rating                  Place  \\\n",
       "count           5961                5961   2659                   5936   \n",
       "unique          1420                  64     51                    877   \n",
       "top              BDS  9 years experience   100%  HSR Layout, Bangalore   \n",
       "freq             488                 323    684                     75   \n",
       "mean             NaN                 NaN    NaN                    NaN   \n",
       "std              NaN                 NaN    NaN                    NaN   \n",
       "min              NaN                 NaN    NaN                    NaN   \n",
       "25%              NaN                 NaN    NaN                    NaN   \n",
       "50%              NaN                 NaN    NaN                    NaN   \n",
       "75%              NaN                 NaN    NaN                    NaN   \n",
       "max              NaN                 NaN    NaN                    NaN   \n",
       "\n",
       "        Profile                                 Miscellaneous_Info  \\\n",
       "count      5961                                               3341   \n",
       "unique        6                                               2998   \n",
       "top     Dentist  Acrylic Partial Denture Crowns and Bridges Fix...   \n",
       "freq       1397                                                 40   \n",
       "mean        NaN                                                NaN   \n",
       "std         NaN                                                NaN   \n",
       "min         NaN                                                NaN   \n",
       "25%         NaN                                                NaN   \n",
       "50%         NaN                                                NaN   \n",
       "75%         NaN                                                NaN   \n",
       "max         NaN                                                NaN   \n",
       "\n",
       "               Fees  \n",
       "count   5961.000000  \n",
       "unique          NaN  \n",
       "top             NaN  \n",
       "freq            NaN  \n",
       "mean     307.944640  \n",
       "std      190.920373  \n",
       "min        5.000000  \n",
       "25%      150.000000  \n",
       "50%      300.000000  \n",
       "75%      500.000000  \n",
       "max      950.000000  "
      ]
     },
     "execution_count": 3,
     "metadata": {},
     "output_type": "execute_result"
    }
   ],
   "source": [
    "data.describe(include='all')"
   ]
  },
  {
   "cell_type": "code",
   "execution_count": 4,
   "metadata": {},
   "outputs": [],
   "source": [
    "data['Place'].fillna('HSR Layout, Bangalore',inplace=True)"
   ]
  },
  {
   "cell_type": "code",
   "execution_count": 5,
   "metadata": {},
   "outputs": [],
   "source": [
    "data['City'] = data['Place'].str.split(',').str[1]\n",
    "data['Area'] = data['Place'].str.split(',').str[0]"
   ]
  },
  {
   "cell_type": "code",
   "execution_count": 6,
   "metadata": {},
   "outputs": [
    {
     "data": {
      "text/plain": [
       "count           5960\n",
       "unique             9\n",
       "top        Bangalore\n",
       "freq            1283\n",
       "Name: City, dtype: object"
      ]
     },
     "execution_count": 6,
     "metadata": {},
     "output_type": "execute_result"
    }
   ],
   "source": [
    "data['City'].describe()"
   ]
  },
  {
   "cell_type": "code",
   "execution_count": 7,
   "metadata": {},
   "outputs": [
    {
     "data": {
      "text/plain": [
       "count           5961\n",
       "unique           866\n",
       "top       HSR Layout\n",
       "freq             100\n",
       "Name: Area, dtype: object"
      ]
     },
     "execution_count": 7,
     "metadata": {},
     "output_type": "execute_result"
    }
   ],
   "source": [
    "data['Area'].describe()"
   ]
  },
  {
   "cell_type": "code",
   "execution_count": 8,
   "metadata": {},
   "outputs": [],
   "source": [
    "data['1st_degree'] = data['Qualification'].str.split(',').str[0]\n",
    "data['2nd_degree'] = data['Qualification'].str.split(',').str[1]\n",
    "data['3rd_degree'] = data['Qualification'].str.split(',').str[2]\n",
    "data['4th_degree'] = data['Qualification'].str.split(',').str[3]"
   ]
  },
  {
   "cell_type": "code",
   "execution_count": 9,
   "metadata": {},
   "outputs": [
    {
     "data": {
      "text/plain": [
       "count     5961\n",
       "unique     151\n",
       "top       MBBS\n",
       "freq      2448\n",
       "Name: 1st_degree, dtype: object"
      ]
     },
     "execution_count": 9,
     "metadata": {},
     "output_type": "execute_result"
    }
   ],
   "source": [
    "data['1st_degree'].describe()"
   ]
  },
  {
   "cell_type": "code",
   "execution_count": 10,
   "metadata": {},
   "outputs": [
    {
     "data": {
      "text/plain": [
       "count          3999\n",
       "unique          426\n",
       "top        MS - ENT\n",
       "freq            301\n",
       "Name: 2nd_degree, dtype: object"
      ]
     },
     "execution_count": 10,
     "metadata": {},
     "output_type": "execute_result"
    }
   ],
   "source": [
    "data['2nd_degree'].describe()"
   ]
  },
  {
   "cell_type": "code",
   "execution_count": 11,
   "metadata": {},
   "outputs": [
    {
     "data": {
      "text/plain": [
       "count                       1371\n",
       "unique                       406\n",
       "top        Venereology & Leprosy\n",
       "freq                         185\n",
       "Name: 3rd_degree, dtype: object"
      ]
     },
     "execution_count": 11,
     "metadata": {},
     "output_type": "execute_result"
    }
   ],
   "source": [
    "data['3rd_degree'].describe()"
   ]
  },
  {
   "cell_type": "code",
   "execution_count": 12,
   "metadata": {},
   "outputs": [
    {
     "data": {
      "text/plain": [
       "count       376\n",
       "unique      212\n",
       "top        MBBS\n",
       "freq         19\n",
       "Name: 4th_degree, dtype: object"
      ]
     },
     "execution_count": 12,
     "metadata": {},
     "output_type": "execute_result"
    }
   ],
   "source": [
    "data['4th_degree'].describe()"
   ]
  },
  {
   "cell_type": "markdown",
   "metadata": {},
   "source": [
    "As we move up the string provided in the qualification column the count decreases and unique elements increase, so we stop at 4th degree."
   ]
  },
  {
   "cell_type": "markdown",
   "metadata": {},
   "source": [
    "In Miscellaneous_Info column some strings begin with rating percentage and the number of feedback that resulted that rating. Let us separate that out."
   ]
  },
  {
   "cell_type": "code",
   "execution_count": 13,
   "metadata": {},
   "outputs": [],
   "source": [
    "data['M_rating'] = data['Miscellaneous_Info'].str.split('%').str[0]"
   ]
  },
  {
   "cell_type": "code",
   "execution_count": 14,
   "metadata": {},
   "outputs": [
    {
     "data": {
      "text/plain": [
       "count     3341\n",
       "unique    1557\n",
       "top        100\n",
       "freq       335\n",
       "Name: M_rating, dtype: object"
      ]
     },
     "execution_count": 14,
     "metadata": {},
     "output_type": "execute_result"
    }
   ],
   "source": [
    "data['M_rating'].describe()"
   ]
  },
  {
   "cell_type": "code",
   "execution_count": 15,
   "metadata": {},
   "outputs": [
    {
     "data": {
      "text/plain": [
       "0                                                     100\n",
       "1                                                      98\n",
       "2                                                     NaN\n",
       "3       Bannerghatta Road, Bangalore ₹250 Available on...\n",
       "4                                                     100\n",
       "                              ...                        \n",
       "5956                                                   98\n",
       "5957                                                  NaN\n",
       "5958                                                   97\n",
       "5959    General Medical Consultation Viral Fever Treat...\n",
       "5960    Acrylic Partial Denture Crowns and Bridges Fix...\n",
       "Name: M_rating, Length: 5961, dtype: object"
      ]
     },
     "execution_count": 15,
     "metadata": {},
     "output_type": "execute_result"
    }
   ],
   "source": [
    "data['M_rating']"
   ]
  },
  {
   "cell_type": "code",
   "execution_count": 16,
   "metadata": {},
   "outputs": [],
   "source": [
    "\n",
    "data['M_rating_len'] = data['M_rating'].str.len()\n",
    "\n",
    "data.loc[data['M_rating_len']>3, 'M_rating'] = 0"
   ]
  },
  {
   "cell_type": "code",
   "execution_count": 17,
   "metadata": {},
   "outputs": [
    {
     "data": {
      "text/plain": [
       "0        3.0\n",
       "1        2.0\n",
       "2        NaN\n",
       "3       58.0\n",
       "4        3.0\n",
       "        ... \n",
       "5956     2.0\n",
       "5957     NaN\n",
       "5958     2.0\n",
       "5959    79.0\n",
       "5960    66.0\n",
       "Name: M_rating_len, Length: 5961, dtype: float64"
      ]
     },
     "execution_count": 17,
     "metadata": {},
     "output_type": "execute_result"
    }
   ],
   "source": [
    "data['M_rating_len']"
   ]
  },
  {
   "cell_type": "code",
   "execution_count": 18,
   "metadata": {},
   "outputs": [
    {
     "data": {
      "text/plain": [
       "0       100\n",
       "1        98\n",
       "2       NaN\n",
       "3         0\n",
       "4       100\n",
       "       ... \n",
       "5956     98\n",
       "5957    NaN\n",
       "5958     97\n",
       "5959      0\n",
       "5960      0\n",
       "Name: M_rating, Length: 5961, dtype: object"
      ]
     },
     "execution_count": 18,
     "metadata": {},
     "output_type": "execute_result"
    }
   ],
   "source": [
    "data['M_rating']"
   ]
  },
  {
   "cell_type": "code",
   "execution_count": 22,
   "metadata": {},
   "outputs": [
    {
     "data": {
      "text/plain": [
       "str"
      ]
     },
     "execution_count": 22,
     "metadata": {},
     "output_type": "execute_result"
    }
   ],
   "source": [
    "type(data['M_rating'][2])"
   ]
  },
  {
   "cell_type": "code",
   "execution_count": 21,
   "metadata": {},
   "outputs": [],
   "source": [
    "data['M_rating'].fillna('0',inplace=True)"
   ]
  },
  {
   "cell_type": "code",
   "execution_count": 23,
   "metadata": {},
   "outputs": [],
   "source": [
    "data['M_number_of_feedback'] = data['Miscellaneous_Info'].str.split('% ').str[1]"
   ]
  },
  {
   "cell_type": "code",
   "execution_count": 24,
   "metadata": {},
   "outputs": [
    {
     "data": {
      "text/plain": [
       "0                 16 Feedback Kakkanad, Ernakulam\n",
       "1               76 Feedback Whitefield, Bangalore\n",
       "2                                             NaN\n",
       "3                                             NaN\n",
       "4                4 Feedback Keelkattalai, Chennai\n",
       "                          ...                    \n",
       "5956          45 Feedback Basavanagudi, Bangalore\n",
       "5957                                          NaN\n",
       "5958    11 Feedback Greater Kailash Part 2, Delhi\n",
       "5959                                          NaN\n",
       "5960                                          NaN\n",
       "Name: M_number_of_feedback, Length: 5961, dtype: object"
      ]
     },
     "execution_count": 24,
     "metadata": {},
     "output_type": "execute_result"
    }
   ],
   "source": [
    "data['M_number_of_feedback']"
   ]
  },
  {
   "cell_type": "markdown",
   "metadata": {},
   "source": [
    "We have to get only the first element of these strings"
   ]
  },
  {
   "cell_type": "code",
   "execution_count": 25,
   "metadata": {},
   "outputs": [],
   "source": [
    "data['M_feedbacks_number'] = data['M_number_of_feedback'].str.split(' ').str[0]"
   ]
  },
  {
   "cell_type": "code",
   "execution_count": 26,
   "metadata": {},
   "outputs": [
    {
     "data": {
      "text/plain": [
       "0        16\n",
       "1        76\n",
       "2       NaN\n",
       "3       NaN\n",
       "4         4\n",
       "       ... \n",
       "5956     45\n",
       "5957    NaN\n",
       "5958     11\n",
       "5959    NaN\n",
       "5960    NaN\n",
       "Name: M_feedbacks_number, Length: 5961, dtype: object"
      ]
     },
     "execution_count": 26,
     "metadata": {},
     "output_type": "execute_result"
    }
   ],
   "source": [
    "data['M_feedbacks_number']"
   ]
  },
  {
   "cell_type": "code",
   "execution_count": 27,
   "metadata": {},
   "outputs": [],
   "source": [
    "data['M_feedbacks_number'].fillna('0',inplace = True)"
   ]
  },
  {
   "cell_type": "code",
   "execution_count": 62,
   "metadata": {},
   "outputs": [
    {
     "data": {
      "text/plain": [
       "str"
      ]
     },
     "execution_count": 62,
     "metadata": {},
     "output_type": "execute_result"
    }
   ],
   "source": [
    "type(data['M_feedbacks_number'][2])"
   ]
  },
  {
   "cell_type": "code",
   "execution_count": null,
   "metadata": {},
   "outputs": [],
   "source": []
  },
  {
   "cell_type": "code",
   "execution_count": null,
   "metadata": {},
   "outputs": [],
   "source": [
    "data.tail(15)"
   ]
  },
  {
   "cell_type": "markdown",
   "metadata": {},
   "source": [
    "As we can see the rest of Miscellaneous_Info is either the address, which already we have in other columns, or the target variable itself."
   ]
  },
  {
   "cell_type": "code",
   "execution_count": null,
   "metadata": {
    "scrolled": true
   },
   "outputs": [],
   "source": [
    "data.columns"
   ]
  },
  {
   "cell_type": "code",
   "execution_count": null,
   "metadata": {},
   "outputs": [],
   "source": []
  },
  {
   "cell_type": "code",
   "execution_count": null,
   "metadata": {},
   "outputs": [],
   "source": [
    "Data=data[['Experience', 'Rating', 'Place', 'Profile', 'Fees', 'City', 'Area', '1st_degree','2nd_degree', '3rd_degree', '4th_degree', 'M_rating', 'M_feedbacks_number']]"
   ]
  },
  {
   "cell_type": "code",
   "execution_count": null,
   "metadata": {},
   "outputs": [],
   "source": [
    "Data.describe(include='all')"
   ]
  },
  {
   "cell_type": "code",
   "execution_count": null,
   "metadata": {},
   "outputs": [],
   "source": [
    "sns.set()"
   ]
  },
  {
   "cell_type": "code",
   "execution_count": 28,
   "metadata": {},
   "outputs": [],
   "source": [
    "data['Rating'] = data['Rating'].str.split('%').str[0]"
   ]
  },
  {
   "cell_type": "code",
   "execution_count": 29,
   "metadata": {},
   "outputs": [],
   "source": [
    "data['Rating'].fillna('0',inplace=True)"
   ]
  },
  {
   "cell_type": "code",
   "execution_count": 30,
   "metadata": {},
   "outputs": [
    {
     "data": {
      "text/plain": [
       "count     5961\n",
       "unique      52\n",
       "top          0\n",
       "freq      3302\n",
       "Name: Rating, dtype: object"
      ]
     },
     "execution_count": 30,
     "metadata": {},
     "output_type": "execute_result"
    }
   ],
   "source": [
    "data['Rating'].describe()"
   ]
  },
  {
   "cell_type": "code",
   "execution_count": 31,
   "metadata": {},
   "outputs": [],
   "source": [
    "data['Experience'] = data['Experience'].str.split(' ').str[0]"
   ]
  },
  {
   "cell_type": "code",
   "execution_count": 32,
   "metadata": {},
   "outputs": [
    {
     "data": {
      "text/plain": [
       "count     5961\n",
       "unique      64\n",
       "top          9\n",
       "freq       323\n",
       "Name: Experience, dtype: object"
      ]
     },
     "execution_count": 32,
     "metadata": {},
     "output_type": "execute_result"
    }
   ],
   "source": [
    "data['Experience'].describe()"
   ]
  },
  {
   "cell_type": "code",
   "execution_count": 33,
   "metadata": {},
   "outputs": [],
   "source": [
    "data['Experience']=[int(i) for i in data['Experience']]"
   ]
  },
  {
   "cell_type": "code",
   "execution_count": 34,
   "metadata": {},
   "outputs": [
    {
     "data": {
      "text/plain": [
       "count    5961.000000\n",
       "mean       17.303976\n",
       "std        11.142798\n",
       "min         0.000000\n",
       "25%         9.000000\n",
       "50%        14.000000\n",
       "75%        23.000000\n",
       "max        66.000000\n",
       "Name: Experience, dtype: float64"
      ]
     },
     "execution_count": 34,
     "metadata": {},
     "output_type": "execute_result"
    }
   ],
   "source": [
    "data['Experience'].describe()"
   ]
  },
  {
   "cell_type": "code",
   "execution_count": 35,
   "metadata": {},
   "outputs": [],
   "source": [
    "data['Rating']=[int(i) for i in data['Rating']]"
   ]
  },
  {
   "cell_type": "code",
   "execution_count": 36,
   "metadata": {},
   "outputs": [
    {
     "data": {
      "text/plain": [
       "count    5961.000000\n",
       "mean       42.217245\n",
       "std        47.340934\n",
       "min         0.000000\n",
       "25%         0.000000\n",
       "50%         0.000000\n",
       "75%        96.000000\n",
       "max       100.000000\n",
       "Name: Rating, dtype: float64"
      ]
     },
     "execution_count": 36,
     "metadata": {},
     "output_type": "execute_result"
    }
   ],
   "source": [
    "data['Rating'].describe()"
   ]
  },
  {
   "cell_type": "code",
   "execution_count": 37,
   "metadata": {},
   "outputs": [],
   "source": [
    "data['City'].fillna(\"XXX\",inplace = True)\n",
    "data['Area'].fillna(\"XXX\",inplace = True)\n",
    "data['4th_degree'].fillna(\"XXX\",inplace = True)\n",
    "data['Profile'].fillna(\"XXX\",inplace = True)\n",
    "data['1st_degree'].fillna(\"XXX\",inplace = True)\n",
    "data['2nd_degree'].fillna(\"XXX\",inplace = True)\n",
    "data['3rd_degree'].fillna(\"XXX\",inplace = True)"
   ]
  },
  {
   "cell_type": "code",
   "execution_count": null,
   "metadata": {},
   "outputs": [],
   "source": []
  },
  {
   "cell_type": "code",
   "execution_count": 38,
   "metadata": {},
   "outputs": [],
   "source": [
    "from sklearn.preprocessing import LabelEncoder\n",
    "le=LabelEncoder()"
   ]
  },
  {
   "cell_type": "code",
   "execution_count": 68,
   "metadata": {},
   "outputs": [],
   "source": [
    "data['En_city']=le.fit_transform(data['City'])"
   ]
  },
  {
   "cell_type": "code",
   "execution_count": 69,
   "metadata": {},
   "outputs": [],
   "source": [
    "le_area=LabelEncoder()\n",
    "data['En_area']=le_area.fit_transform(data['Area'])"
   ]
  },
  {
   "cell_type": "code",
   "execution_count": 70,
   "metadata": {},
   "outputs": [],
   "source": [
    "le_profile=LabelEncoder()\n",
    "data['Profile']=le_area.fit_transform(data['Profile'])"
   ]
  },
  {
   "cell_type": "code",
   "execution_count": 42,
   "metadata": {},
   "outputs": [],
   "source": [
    "le_1st=LabelEncoder()\n",
    "data['1st_degree']=le_area.fit_transform(data['1st_degree'])"
   ]
  },
  {
   "cell_type": "code",
   "execution_count": 43,
   "metadata": {},
   "outputs": [],
   "source": [
    "le_2nd=LabelEncoder()\n",
    "data['2nd_degree']=le_2nd.fit_transform(data['2nd_degree'])"
   ]
  },
  {
   "cell_type": "code",
   "execution_count": 44,
   "metadata": {},
   "outputs": [],
   "source": [
    "le_3rd=LabelEncoder()\n",
    "data['3rd_degree']=le_3rd.fit_transform(data['3rd_degree'])"
   ]
  },
  {
   "cell_type": "code",
   "execution_count": 45,
   "metadata": {},
   "outputs": [],
   "source": [
    "le_4th=LabelEncoder()\n",
    "data['4th_degree']=le_4th.fit_transform(data['4th_degree'])"
   ]
  },
  {
   "cell_type": "code",
   "execution_count": 46,
   "metadata": {},
   "outputs": [
    {
     "data": {
      "text/html": [
       "<div>\n",
       "<style scoped>\n",
       "    .dataframe tbody tr th:only-of-type {\n",
       "        vertical-align: middle;\n",
       "    }\n",
       "\n",
       "    .dataframe tbody tr th {\n",
       "        vertical-align: top;\n",
       "    }\n",
       "\n",
       "    .dataframe thead th {\n",
       "        text-align: right;\n",
       "    }\n",
       "</style>\n",
       "<table border=\"1\" class=\"dataframe\">\n",
       "  <thead>\n",
       "    <tr style=\"text-align: right;\">\n",
       "      <th></th>\n",
       "      <th>Qualification</th>\n",
       "      <th>Experience</th>\n",
       "      <th>Rating</th>\n",
       "      <th>Place</th>\n",
       "      <th>Profile</th>\n",
       "      <th>Miscellaneous_Info</th>\n",
       "      <th>Fees</th>\n",
       "      <th>City</th>\n",
       "      <th>Area</th>\n",
       "      <th>1st_degree</th>\n",
       "      <th>2nd_degree</th>\n",
       "      <th>3rd_degree</th>\n",
       "      <th>4th_degree</th>\n",
       "      <th>M_rating</th>\n",
       "      <th>M_rating_len</th>\n",
       "      <th>M_number_of_feedback</th>\n",
       "      <th>M_feedbacks_number</th>\n",
       "      <th>En_city</th>\n",
       "      <th>En_area</th>\n",
       "    </tr>\n",
       "  </thead>\n",
       "  <tbody>\n",
       "    <tr>\n",
       "      <th>count</th>\n",
       "      <td>5961</td>\n",
       "      <td>5961.000000</td>\n",
       "      <td>5961.000000</td>\n",
       "      <td>5961</td>\n",
       "      <td>5961.000000</td>\n",
       "      <td>3341</td>\n",
       "      <td>5961.000000</td>\n",
       "      <td>5961</td>\n",
       "      <td>5961</td>\n",
       "      <td>5961.000000</td>\n",
       "      <td>5961.000000</td>\n",
       "      <td>5961.000000</td>\n",
       "      <td>5961.000000</td>\n",
       "      <td>5961</td>\n",
       "      <td>3341.000000</td>\n",
       "      <td>1507</td>\n",
       "      <td>5961</td>\n",
       "      <td>5961.000000</td>\n",
       "      <td>5961.000000</td>\n",
       "    </tr>\n",
       "    <tr>\n",
       "      <th>unique</th>\n",
       "      <td>1420</td>\n",
       "      <td>NaN</td>\n",
       "      <td>NaN</td>\n",
       "      <td>877</td>\n",
       "      <td>NaN</td>\n",
       "      <td>2998</td>\n",
       "      <td>NaN</td>\n",
       "      <td>10</td>\n",
       "      <td>866</td>\n",
       "      <td>NaN</td>\n",
       "      <td>NaN</td>\n",
       "      <td>NaN</td>\n",
       "      <td>NaN</td>\n",
       "      <td>51</td>\n",
       "      <td>NaN</td>\n",
       "      <td>1420</td>\n",
       "      <td>210</td>\n",
       "      <td>NaN</td>\n",
       "      <td>NaN</td>\n",
       "    </tr>\n",
       "    <tr>\n",
       "      <th>top</th>\n",
       "      <td>BDS</td>\n",
       "      <td>NaN</td>\n",
       "      <td>NaN</td>\n",
       "      <td>HSR Layout, Bangalore</td>\n",
       "      <td>NaN</td>\n",
       "      <td>Acrylic Partial Denture Crowns and Bridges Fix...</td>\n",
       "      <td>NaN</td>\n",
       "      <td>Bangalore</td>\n",
       "      <td>HSR Layout</td>\n",
       "      <td>NaN</td>\n",
       "      <td>NaN</td>\n",
       "      <td>NaN</td>\n",
       "      <td>NaN</td>\n",
       "      <td>0</td>\n",
       "      <td>NaN</td>\n",
       "      <td>2 Feedback Borivali West, Mumbai</td>\n",
       "      <td>0</td>\n",
       "      <td>NaN</td>\n",
       "      <td>NaN</td>\n",
       "    </tr>\n",
       "    <tr>\n",
       "      <th>freq</th>\n",
       "      <td>488</td>\n",
       "      <td>NaN</td>\n",
       "      <td>NaN</td>\n",
       "      <td>100</td>\n",
       "      <td>NaN</td>\n",
       "      <td>40</td>\n",
       "      <td>NaN</td>\n",
       "      <td>1283</td>\n",
       "      <td>100</td>\n",
       "      <td>NaN</td>\n",
       "      <td>NaN</td>\n",
       "      <td>NaN</td>\n",
       "      <td>NaN</td>\n",
       "      <td>2620</td>\n",
       "      <td>NaN</td>\n",
       "      <td>3</td>\n",
       "      <td>4454</td>\n",
       "      <td>NaN</td>\n",
       "      <td>NaN</td>\n",
       "    </tr>\n",
       "    <tr>\n",
       "      <th>mean</th>\n",
       "      <td>NaN</td>\n",
       "      <td>17.303976</td>\n",
       "      <td>42.217245</td>\n",
       "      <td>NaN</td>\n",
       "      <td>2.441872</td>\n",
       "      <td>NaN</td>\n",
       "      <td>307.944640</td>\n",
       "      <td>NaN</td>\n",
       "      <td>NaN</td>\n",
       "      <td>47.962087</td>\n",
       "      <td>288.075323</td>\n",
       "      <td>362.796175</td>\n",
       "      <td>204.727395</td>\n",
       "      <td>NaN</td>\n",
       "      <td>35.290332</td>\n",
       "      <td>NaN</td>\n",
       "      <td>NaN</td>\n",
       "      <td>3.061231</td>\n",
       "      <td>410.120282</td>\n",
       "    </tr>\n",
       "    <tr>\n",
       "      <th>std</th>\n",
       "      <td>NaN</td>\n",
       "      <td>11.142798</td>\n",
       "      <td>47.340934</td>\n",
       "      <td>NaN</td>\n",
       "      <td>1.658014</td>\n",
       "      <td>NaN</td>\n",
       "      <td>190.920373</td>\n",
       "      <td>NaN</td>\n",
       "      <td>NaN</td>\n",
       "      <td>39.371696</td>\n",
       "      <td>131.765907</td>\n",
       "      <td>99.497639</td>\n",
       "      <td>28.520633</td>\n",
       "      <td>NaN</td>\n",
       "      <td>32.255791</td>\n",
       "      <td>NaN</td>\n",
       "      <td>NaN</td>\n",
       "      <td>2.328070</td>\n",
       "      <td>255.174855</td>\n",
       "    </tr>\n",
       "    <tr>\n",
       "      <th>min</th>\n",
       "      <td>NaN</td>\n",
       "      <td>0.000000</td>\n",
       "      <td>0.000000</td>\n",
       "      <td>NaN</td>\n",
       "      <td>0.000000</td>\n",
       "      <td>NaN</td>\n",
       "      <td>5.000000</td>\n",
       "      <td>NaN</td>\n",
       "      <td>NaN</td>\n",
       "      <td>0.000000</td>\n",
       "      <td>0.000000</td>\n",
       "      <td>0.000000</td>\n",
       "      <td>0.000000</td>\n",
       "      <td>NaN</td>\n",
       "      <td>1.000000</td>\n",
       "      <td>NaN</td>\n",
       "      <td>NaN</td>\n",
       "      <td>0.000000</td>\n",
       "      <td>0.000000</td>\n",
       "    </tr>\n",
       "    <tr>\n",
       "      <th>25%</th>\n",
       "      <td>NaN</td>\n",
       "      <td>9.000000</td>\n",
       "      <td>0.000000</td>\n",
       "      <td>NaN</td>\n",
       "      <td>1.000000</td>\n",
       "      <td>NaN</td>\n",
       "      <td>150.000000</td>\n",
       "      <td>NaN</td>\n",
       "      <td>NaN</td>\n",
       "      <td>6.000000</td>\n",
       "      <td>227.000000</td>\n",
       "      <td>406.000000</td>\n",
       "      <td>211.000000</td>\n",
       "      <td>NaN</td>\n",
       "      <td>2.000000</td>\n",
       "      <td>NaN</td>\n",
       "      <td>NaN</td>\n",
       "      <td>1.000000</td>\n",
       "      <td>195.000000</td>\n",
       "    </tr>\n",
       "    <tr>\n",
       "      <th>50%</th>\n",
       "      <td>NaN</td>\n",
       "      <td>14.000000</td>\n",
       "      <td>0.000000</td>\n",
       "      <td>NaN</td>\n",
       "      <td>2.000000</td>\n",
       "      <td>NaN</td>\n",
       "      <td>300.000000</td>\n",
       "      <td>NaN</td>\n",
       "      <td>NaN</td>\n",
       "      <td>79.000000</td>\n",
       "      <td>293.000000</td>\n",
       "      <td>406.000000</td>\n",
       "      <td>211.000000</td>\n",
       "      <td>NaN</td>\n",
       "      <td>39.000000</td>\n",
       "      <td>NaN</td>\n",
       "      <td>NaN</td>\n",
       "      <td>3.000000</td>\n",
       "      <td>404.000000</td>\n",
       "    </tr>\n",
       "    <tr>\n",
       "      <th>75%</th>\n",
       "      <td>NaN</td>\n",
       "      <td>23.000000</td>\n",
       "      <td>96.000000</td>\n",
       "      <td>NaN</td>\n",
       "      <td>4.000000</td>\n",
       "      <td>NaN</td>\n",
       "      <td>500.000000</td>\n",
       "      <td>NaN</td>\n",
       "      <td>NaN</td>\n",
       "      <td>79.000000</td>\n",
       "      <td>426.000000</td>\n",
       "      <td>406.000000</td>\n",
       "      <td>211.000000</td>\n",
       "      <td>NaN</td>\n",
       "      <td>64.000000</td>\n",
       "      <td>NaN</td>\n",
       "      <td>NaN</td>\n",
       "      <td>5.000000</td>\n",
       "      <td>622.000000</td>\n",
       "    </tr>\n",
       "    <tr>\n",
       "      <th>max</th>\n",
       "      <td>NaN</td>\n",
       "      <td>66.000000</td>\n",
       "      <td>100.000000</td>\n",
       "      <td>NaN</td>\n",
       "      <td>5.000000</td>\n",
       "      <td>NaN</td>\n",
       "      <td>950.000000</td>\n",
       "      <td>NaN</td>\n",
       "      <td>NaN</td>\n",
       "      <td>150.000000</td>\n",
       "      <td>426.000000</td>\n",
       "      <td>406.000000</td>\n",
       "      <td>212.000000</td>\n",
       "      <td>NaN</td>\n",
       "      <td>141.000000</td>\n",
       "      <td>NaN</td>\n",
       "      <td>NaN</td>\n",
       "      <td>9.000000</td>\n",
       "      <td>865.000000</td>\n",
       "    </tr>\n",
       "  </tbody>\n",
       "</table>\n",
       "</div>"
      ],
      "text/plain": [
       "       Qualification   Experience       Rating                  Place  \\\n",
       "count           5961  5961.000000  5961.000000                   5961   \n",
       "unique          1420          NaN          NaN                    877   \n",
       "top              BDS          NaN          NaN  HSR Layout, Bangalore   \n",
       "freq             488          NaN          NaN                    100   \n",
       "mean             NaN    17.303976    42.217245                    NaN   \n",
       "std              NaN    11.142798    47.340934                    NaN   \n",
       "min              NaN     0.000000     0.000000                    NaN   \n",
       "25%              NaN     9.000000     0.000000                    NaN   \n",
       "50%              NaN    14.000000     0.000000                    NaN   \n",
       "75%              NaN    23.000000    96.000000                    NaN   \n",
       "max              NaN    66.000000   100.000000                    NaN   \n",
       "\n",
       "            Profile                                 Miscellaneous_Info  \\\n",
       "count   5961.000000                                               3341   \n",
       "unique          NaN                                               2998   \n",
       "top             NaN  Acrylic Partial Denture Crowns and Bridges Fix...   \n",
       "freq            NaN                                                 40   \n",
       "mean       2.441872                                                NaN   \n",
       "std        1.658014                                                NaN   \n",
       "min        0.000000                                                NaN   \n",
       "25%        1.000000                                                NaN   \n",
       "50%        2.000000                                                NaN   \n",
       "75%        4.000000                                                NaN   \n",
       "max        5.000000                                                NaN   \n",
       "\n",
       "               Fees        City        Area   1st_degree   2nd_degree  \\\n",
       "count   5961.000000        5961        5961  5961.000000  5961.000000   \n",
       "unique          NaN          10         866          NaN          NaN   \n",
       "top             NaN   Bangalore  HSR Layout          NaN          NaN   \n",
       "freq            NaN        1283         100          NaN          NaN   \n",
       "mean     307.944640         NaN         NaN    47.962087   288.075323   \n",
       "std      190.920373         NaN         NaN    39.371696   131.765907   \n",
       "min        5.000000         NaN         NaN     0.000000     0.000000   \n",
       "25%      150.000000         NaN         NaN     6.000000   227.000000   \n",
       "50%      300.000000         NaN         NaN    79.000000   293.000000   \n",
       "75%      500.000000         NaN         NaN    79.000000   426.000000   \n",
       "max      950.000000         NaN         NaN   150.000000   426.000000   \n",
       "\n",
       "         3rd_degree   4th_degree M_rating  M_rating_len  \\\n",
       "count   5961.000000  5961.000000     5961   3341.000000   \n",
       "unique          NaN          NaN       51           NaN   \n",
       "top             NaN          NaN        0           NaN   \n",
       "freq            NaN          NaN     2620           NaN   \n",
       "mean     362.796175   204.727395      NaN     35.290332   \n",
       "std       99.497639    28.520633      NaN     32.255791   \n",
       "min        0.000000     0.000000      NaN      1.000000   \n",
       "25%      406.000000   211.000000      NaN      2.000000   \n",
       "50%      406.000000   211.000000      NaN     39.000000   \n",
       "75%      406.000000   211.000000      NaN     64.000000   \n",
       "max      406.000000   212.000000      NaN    141.000000   \n",
       "\n",
       "                    M_number_of_feedback M_feedbacks_number      En_city  \\\n",
       "count                               1507               5961  5961.000000   \n",
       "unique                              1420                210          NaN   \n",
       "top     2 Feedback Borivali West, Mumbai                  0          NaN   \n",
       "freq                                   3               4454          NaN   \n",
       "mean                                 NaN                NaN     3.061231   \n",
       "std                                  NaN                NaN     2.328070   \n",
       "min                                  NaN                NaN     0.000000   \n",
       "25%                                  NaN                NaN     1.000000   \n",
       "50%                                  NaN                NaN     3.000000   \n",
       "75%                                  NaN                NaN     5.000000   \n",
       "max                                  NaN                NaN     9.000000   \n",
       "\n",
       "            En_area  \n",
       "count   5961.000000  \n",
       "unique          NaN  \n",
       "top             NaN  \n",
       "freq            NaN  \n",
       "mean     410.120282  \n",
       "std      255.174855  \n",
       "min        0.000000  \n",
       "25%      195.000000  \n",
       "50%      404.000000  \n",
       "75%      622.000000  \n",
       "max      865.000000  "
      ]
     },
     "execution_count": 46,
     "metadata": {},
     "output_type": "execute_result"
    }
   ],
   "source": [
    "data.describe(include='all')"
   ]
  },
  {
   "cell_type": "code",
   "execution_count": 92,
   "metadata": {},
   "outputs": [
    {
     "name": "stderr",
     "output_type": "stream",
     "text": [
      "C:\\ProgramData\\Anaconda3\\lib\\site-packages\\ipykernel_launcher.py:4: SettingWithCopyWarning: \n",
      "A value is trying to be set on a copy of a slice from a DataFrame\n",
      "\n",
      "See the caveats in the documentation: https://pandas.pydata.org/pandas-docs/stable/user_guide/indexing.html#returning-a-view-versus-a-copy\n",
      "  after removing the cwd from sys.path.\n"
     ]
    }
   ],
   "source": [
    "j=0\n",
    "for i in data['M_rating']:\n",
    "    x=int(i)\n",
    "    data['M_rating'][j]=x\n",
    "    j=j+1"
   ]
  },
  {
   "cell_type": "code",
   "execution_count": 94,
   "metadata": {},
   "outputs": [
    {
     "data": {
      "text/plain": [
       "int"
      ]
     },
     "execution_count": 94,
     "metadata": {},
     "output_type": "execute_result"
    }
   ],
   "source": [
    "type(data['M_rating'][0])"
   ]
  },
  {
   "cell_type": "code",
   "execution_count": 96,
   "metadata": {},
   "outputs": [
    {
     "data": {
      "text/plain": [
       "count     5961\n",
       "unique      50\n",
       "top          0\n",
       "freq      4458\n",
       "Name: M_rating, dtype: int64"
      ]
     },
     "execution_count": 96,
     "metadata": {},
     "output_type": "execute_result"
    }
   ],
   "source": [
    "data['M_rating'].describe()"
   ]
  },
  {
   "cell_type": "code",
   "execution_count": null,
   "metadata": {},
   "outputs": [],
   "source": []
  },
  {
   "cell_type": "code",
   "execution_count": null,
   "metadata": {},
   "outputs": [],
   "source": []
  },
  {
   "cell_type": "code",
   "execution_count": 63,
   "metadata": {},
   "outputs": [],
   "source": [
    "le_4th=LabelEncoder()\n",
    "data['M_feedbacks_number']=le_4th.fit_transform(data['M_feedbacks_number'])"
   ]
  },
  {
   "cell_type": "code",
   "execution_count": 57,
   "metadata": {},
   "outputs": [
    {
     "data": {
      "text/plain": [
       "0"
      ]
     },
     "execution_count": 57,
     "metadata": {},
     "output_type": "execute_result"
    }
   ],
   "source": [
    "data['M_rating'].isnull().sum()"
   ]
  },
  {
   "cell_type": "code",
   "execution_count": 50,
   "metadata": {},
   "outputs": [
    {
     "data": {
      "text/plain": [
       "str"
      ]
     },
     "execution_count": 50,
     "metadata": {},
     "output_type": "execute_result"
    }
   ],
   "source": [
    "type(data['M_rating'][2])"
   ]
  },
  {
   "cell_type": "code",
   "execution_count": 55,
   "metadata": {},
   "outputs": [
    {
     "ename": "SyntaxError",
     "evalue": "invalid syntax (<ipython-input-55-842a75c00323>, line 1)",
     "output_type": "error",
     "traceback": [
      "\u001b[1;36m  File \u001b[1;32m\"<ipython-input-55-842a75c00323>\"\u001b[1;36m, line \u001b[1;32m1\u001b[0m\n\u001b[1;33m    k=[i (if type(i)=='str') for i in data['M_rating']]\u001b[0m\n\u001b[1;37m           ^\u001b[0m\n\u001b[1;31mSyntaxError\u001b[0m\u001b[1;31m:\u001b[0m invalid syntax\n"
     ]
    }
   ],
   "source": [
    "k=[i (if type(i)=='str') for i in data['M_rating']]"
   ]
  },
  {
   "cell_type": "code",
   "execution_count": 75,
   "metadata": {},
   "outputs": [],
   "source": [
    "Data=data[['Experience', 'Rating', 'Profile', 'Fees', 'En_city', 'En_area', '1st_degree','2nd_degree', '3rd_degree', '4th_degree', 'M_feedbacks_number']]"
   ]
  },
  {
   "cell_type": "code",
   "execution_count": 76,
   "metadata": {},
   "outputs": [
    {
     "data": {
      "text/html": [
       "<div>\n",
       "<style scoped>\n",
       "    .dataframe tbody tr th:only-of-type {\n",
       "        vertical-align: middle;\n",
       "    }\n",
       "\n",
       "    .dataframe tbody tr th {\n",
       "        vertical-align: top;\n",
       "    }\n",
       "\n",
       "    .dataframe thead th {\n",
       "        text-align: right;\n",
       "    }\n",
       "</style>\n",
       "<table border=\"1\" class=\"dataframe\">\n",
       "  <thead>\n",
       "    <tr style=\"text-align: right;\">\n",
       "      <th></th>\n",
       "      <th>Experience</th>\n",
       "      <th>Rating</th>\n",
       "      <th>Profile</th>\n",
       "      <th>Fees</th>\n",
       "      <th>En_city</th>\n",
       "      <th>En_area</th>\n",
       "      <th>1st_degree</th>\n",
       "      <th>2nd_degree</th>\n",
       "      <th>3rd_degree</th>\n",
       "      <th>4th_degree</th>\n",
       "      <th>M_feedbacks_number</th>\n",
       "    </tr>\n",
       "  </thead>\n",
       "  <tbody>\n",
       "    <tr>\n",
       "      <th>count</th>\n",
       "      <td>5961.000000</td>\n",
       "      <td>5961.000000</td>\n",
       "      <td>5961.000000</td>\n",
       "      <td>5961.000000</td>\n",
       "      <td>5961.000000</td>\n",
       "      <td>5961.000000</td>\n",
       "      <td>5961.000000</td>\n",
       "      <td>5961.000000</td>\n",
       "      <td>5961.000000</td>\n",
       "      <td>5961.000000</td>\n",
       "      <td>5961.000000</td>\n",
       "    </tr>\n",
       "    <tr>\n",
       "      <th>mean</th>\n",
       "      <td>17.303976</td>\n",
       "      <td>42.217245</td>\n",
       "      <td>2.441872</td>\n",
       "      <td>307.944640</td>\n",
       "      <td>3.061231</td>\n",
       "      <td>410.120282</td>\n",
       "      <td>47.962087</td>\n",
       "      <td>288.075323</td>\n",
       "      <td>362.796175</td>\n",
       "      <td>204.727395</td>\n",
       "      <td>26.498574</td>\n",
       "    </tr>\n",
       "    <tr>\n",
       "      <th>std</th>\n",
       "      <td>11.142798</td>\n",
       "      <td>47.340934</td>\n",
       "      <td>1.658014</td>\n",
       "      <td>190.920373</td>\n",
       "      <td>2.328070</td>\n",
       "      <td>255.174855</td>\n",
       "      <td>39.371696</td>\n",
       "      <td>131.765907</td>\n",
       "      <td>99.497639</td>\n",
       "      <td>28.520633</td>\n",
       "      <td>53.154372</td>\n",
       "    </tr>\n",
       "    <tr>\n",
       "      <th>min</th>\n",
       "      <td>0.000000</td>\n",
       "      <td>0.000000</td>\n",
       "      <td>0.000000</td>\n",
       "      <td>5.000000</td>\n",
       "      <td>0.000000</td>\n",
       "      <td>0.000000</td>\n",
       "      <td>0.000000</td>\n",
       "      <td>0.000000</td>\n",
       "      <td>0.000000</td>\n",
       "      <td>0.000000</td>\n",
       "      <td>0.000000</td>\n",
       "    </tr>\n",
       "    <tr>\n",
       "      <th>25%</th>\n",
       "      <td>9.000000</td>\n",
       "      <td>0.000000</td>\n",
       "      <td>1.000000</td>\n",
       "      <td>150.000000</td>\n",
       "      <td>1.000000</td>\n",
       "      <td>195.000000</td>\n",
       "      <td>6.000000</td>\n",
       "      <td>227.000000</td>\n",
       "      <td>406.000000</td>\n",
       "      <td>211.000000</td>\n",
       "      <td>1.000000</td>\n",
       "    </tr>\n",
       "    <tr>\n",
       "      <th>50%</th>\n",
       "      <td>14.000000</td>\n",
       "      <td>0.000000</td>\n",
       "      <td>2.000000</td>\n",
       "      <td>300.000000</td>\n",
       "      <td>3.000000</td>\n",
       "      <td>404.000000</td>\n",
       "      <td>79.000000</td>\n",
       "      <td>293.000000</td>\n",
       "      <td>406.000000</td>\n",
       "      <td>211.000000</td>\n",
       "      <td>1.000000</td>\n",
       "    </tr>\n",
       "    <tr>\n",
       "      <th>75%</th>\n",
       "      <td>23.000000</td>\n",
       "      <td>96.000000</td>\n",
       "      <td>4.000000</td>\n",
       "      <td>500.000000</td>\n",
       "      <td>5.000000</td>\n",
       "      <td>622.000000</td>\n",
       "      <td>79.000000</td>\n",
       "      <td>426.000000</td>\n",
       "      <td>406.000000</td>\n",
       "      <td>211.000000</td>\n",
       "      <td>2.000000</td>\n",
       "    </tr>\n",
       "    <tr>\n",
       "      <th>max</th>\n",
       "      <td>66.000000</td>\n",
       "      <td>100.000000</td>\n",
       "      <td>5.000000</td>\n",
       "      <td>950.000000</td>\n",
       "      <td>9.000000</td>\n",
       "      <td>865.000000</td>\n",
       "      <td>150.000000</td>\n",
       "      <td>426.000000</td>\n",
       "      <td>406.000000</td>\n",
       "      <td>212.000000</td>\n",
       "      <td>209.000000</td>\n",
       "    </tr>\n",
       "  </tbody>\n",
       "</table>\n",
       "</div>"
      ],
      "text/plain": [
       "        Experience       Rating      Profile         Fees      En_city  \\\n",
       "count  5961.000000  5961.000000  5961.000000  5961.000000  5961.000000   \n",
       "mean     17.303976    42.217245     2.441872   307.944640     3.061231   \n",
       "std      11.142798    47.340934     1.658014   190.920373     2.328070   \n",
       "min       0.000000     0.000000     0.000000     5.000000     0.000000   \n",
       "25%       9.000000     0.000000     1.000000   150.000000     1.000000   \n",
       "50%      14.000000     0.000000     2.000000   300.000000     3.000000   \n",
       "75%      23.000000    96.000000     4.000000   500.000000     5.000000   \n",
       "max      66.000000   100.000000     5.000000   950.000000     9.000000   \n",
       "\n",
       "           En_area   1st_degree   2nd_degree   3rd_degree   4th_degree  \\\n",
       "count  5961.000000  5961.000000  5961.000000  5961.000000  5961.000000   \n",
       "mean    410.120282    47.962087   288.075323   362.796175   204.727395   \n",
       "std     255.174855    39.371696   131.765907    99.497639    28.520633   \n",
       "min       0.000000     0.000000     0.000000     0.000000     0.000000   \n",
       "25%     195.000000     6.000000   227.000000   406.000000   211.000000   \n",
       "50%     404.000000    79.000000   293.000000   406.000000   211.000000   \n",
       "75%     622.000000    79.000000   426.000000   406.000000   211.000000   \n",
       "max     865.000000   150.000000   426.000000   406.000000   212.000000   \n",
       "\n",
       "       M_feedbacks_number  \n",
       "count         5961.000000  \n",
       "mean            26.498574  \n",
       "std             53.154372  \n",
       "min              0.000000  \n",
       "25%              1.000000  \n",
       "50%              1.000000  \n",
       "75%              2.000000  \n",
       "max            209.000000  "
      ]
     },
     "execution_count": 76,
     "metadata": {},
     "output_type": "execute_result"
    }
   ],
   "source": [
    "Data.describe(include='all')"
   ]
  },
  {
   "cell_type": "code",
   "execution_count": 77,
   "metadata": {},
   "outputs": [],
   "source": [
    "y=Data['Fees']\n",
    "x=Data.drop('Fees',axis=1)"
   ]
  },
  {
   "cell_type": "code",
   "execution_count": 78,
   "metadata": {
    "scrolled": true
   },
   "outputs": [
    {
     "data": {
      "image/png": "[encoded data removed]",
      "text/plain": [
       "<Figure size 432x288 with 1 Axes>"
      ]
     },
     "metadata": {
      "needs_background": "light"
     },
     "output_type": "display_data"
    }
   ],
   "source": [
    "Data.drop('Fees',axis=1).corrwith(Data['Fees']).plot(kind='bar')\n",
    "plt.show()"
   ]
  },
  {
   "cell_type": "code",
   "execution_count": 96,
   "metadata": {
    "scrolled": true
   },
   "outputs": [
    {
     "data": {
      "image/png": "[encoded data removed]",
      "text/plain": [
       "<Figure size 432x288 with 1 Axes>"
      ]
     },
     "metadata": {
      "needs_background": "light"
     },
     "output_type": "display_data"
    }
   ],
   "source": [
    "sns.barplot(Data['En_city'],Data['Fees'])\n",
    "plt.show()"
   ]
  },
  {
   "cell_type": "code",
   "execution_count": 97,
   "metadata": {},
   "outputs": [
    {
     "data": {
      "image/png": "[encoded data removed]",
      "text/plain": [
       "<Figure size 432x288 with 1 Axes>"
      ]
     },
     "metadata": {
      "needs_background": "light"
     },
     "output_type": "display_data"
    }
   ],
   "source": [
    "sns.barplot(Data['Profile'],Data['Fees'])\n",
    "plt.show()"
   ]
  },
  {
   "cell_type": "code",
   "execution_count": 99,
   "metadata": {},
   "outputs": [
    {
     "data": {
      "image/png": "[encoded data removed]",
      "text/plain": [
       "<Figure size 432x288 with 1 Axes>"
      ]
     },
     "metadata": {
      "needs_background": "light"
     },
     "output_type": "display_data"
    }
   ],
   "source": [
    "sns.scatterplot(Data['Rating'],Data['Fees'])\n",
    "plt.show()"
   ]
  },
  {
   "cell_type": "code",
   "execution_count": 81,
   "metadata": {},
   "outputs": [],
   "source": [
    "from sklearn.preprocessing import PolynomialFeatures\n",
    "poly=PolynomialFeatures()\n",
    "X=poly.fit_transform(x)"
   ]
  },
  {
   "cell_type": "code",
   "execution_count": 80,
   "metadata": {},
   "outputs": [
    {
     "data": {
      "text/html": [
       "<div>\n",
       "<style scoped>\n",
       "    .dataframe tbody tr th:only-of-type {\n",
       "        vertical-align: middle;\n",
       "    }\n",
       "\n",
       "    .dataframe tbody tr th {\n",
       "        vertical-align: top;\n",
       "    }\n",
       "\n",
       "    .dataframe thead th {\n",
       "        text-align: right;\n",
       "    }\n",
       "</style>\n",
       "<table border=\"1\" class=\"dataframe\">\n",
       "  <thead>\n",
       "    <tr style=\"text-align: right;\">\n",
       "      <th></th>\n",
       "      <th>Experience</th>\n",
       "      <th>Rating</th>\n",
       "      <th>Profile</th>\n",
       "      <th>En_city</th>\n",
       "      <th>En_area</th>\n",
       "      <th>1st_degree</th>\n",
       "      <th>2nd_degree</th>\n",
       "      <th>3rd_degree</th>\n",
       "      <th>4th_degree</th>\n",
       "      <th>M_feedbacks_number</th>\n",
       "    </tr>\n",
       "  </thead>\n",
       "  <tbody>\n",
       "    <tr>\n",
       "      <th>0</th>\n",
       "      <td>24</td>\n",
       "      <td>100</td>\n",
       "      <td>5</td>\n",
       "      <td>4</td>\n",
       "      <td>296</td>\n",
       "      <td>8</td>\n",
       "      <td>252</td>\n",
       "      <td>406</td>\n",
       "      <td>211</td>\n",
       "      <td>52</td>\n",
       "    </tr>\n",
       "    <tr>\n",
       "      <th>1</th>\n",
       "      <td>12</td>\n",
       "      <td>98</td>\n",
       "      <td>0</td>\n",
       "      <td>0</td>\n",
       "      <td>855</td>\n",
       "      <td>5</td>\n",
       "      <td>241</td>\n",
       "      <td>406</td>\n",
       "      <td>211</td>\n",
       "      <td>182</td>\n",
       "    </tr>\n",
       "    <tr>\n",
       "      <th>2</th>\n",
       "      <td>9</td>\n",
       "      <td>0</td>\n",
       "      <td>3</td>\n",
       "      <td>0</td>\n",
       "      <td>452</td>\n",
       "      <td>79</td>\n",
       "      <td>334</td>\n",
       "      <td>406</td>\n",
       "      <td>211</td>\n",
       "      <td>1</td>\n",
       "    </tr>\n",
       "    <tr>\n",
       "      <th>3</th>\n",
       "      <td>12</td>\n",
       "      <td>0</td>\n",
       "      <td>0</td>\n",
       "      <td>0</td>\n",
       "      <td>68</td>\n",
       "      <td>12</td>\n",
       "      <td>7</td>\n",
       "      <td>406</td>\n",
       "      <td>211</td>\n",
       "      <td>1</td>\n",
       "    </tr>\n",
       "    <tr>\n",
       "      <th>4</th>\n",
       "      <td>20</td>\n",
       "      <td>100</td>\n",
       "      <td>0</td>\n",
       "      <td>1</td>\n",
       "      <td>335</td>\n",
       "      <td>5</td>\n",
       "      <td>426</td>\n",
       "      <td>406</td>\n",
       "      <td>211</td>\n",
       "      <td>131</td>\n",
       "    </tr>\n",
       "    <tr>\n",
       "      <th>...</th>\n",
       "      <td>...</td>\n",
       "      <td>...</td>\n",
       "      <td>...</td>\n",
       "      <td>...</td>\n",
       "      <td>...</td>\n",
       "      <td>...</td>\n",
       "      <td>...</td>\n",
       "      <td>...</td>\n",
       "      <td>...</td>\n",
       "      <td>...</td>\n",
       "    </tr>\n",
       "    <tr>\n",
       "      <th>5956</th>\n",
       "      <td>19</td>\n",
       "      <td>98</td>\n",
       "      <td>3</td>\n",
       "      <td>0</td>\n",
       "      <td>70</td>\n",
       "      <td>79</td>\n",
       "      <td>328</td>\n",
       "      <td>406</td>\n",
       "      <td>211</td>\n",
       "      <td>140</td>\n",
       "    </tr>\n",
       "    <tr>\n",
       "      <th>5957</th>\n",
       "      <td>33</td>\n",
       "      <td>0</td>\n",
       "      <td>4</td>\n",
       "      <td>1</td>\n",
       "      <td>535</td>\n",
       "      <td>79</td>\n",
       "      <td>426</td>\n",
       "      <td>406</td>\n",
       "      <td>211</td>\n",
       "      <td>1</td>\n",
       "    </tr>\n",
       "    <tr>\n",
       "      <th>5958</th>\n",
       "      <td>41</td>\n",
       "      <td>97</td>\n",
       "      <td>4</td>\n",
       "      <td>3</td>\n",
       "      <td>215</td>\n",
       "      <td>79</td>\n",
       "      <td>426</td>\n",
       "      <td>406</td>\n",
       "      <td>211</td>\n",
       "      <td>13</td>\n",
       "    </tr>\n",
       "    <tr>\n",
       "      <th>5959</th>\n",
       "      <td>15</td>\n",
       "      <td>90</td>\n",
       "      <td>4</td>\n",
       "      <td>6</td>\n",
       "      <td>840</td>\n",
       "      <td>79</td>\n",
       "      <td>249</td>\n",
       "      <td>406</td>\n",
       "      <td>211</td>\n",
       "      <td>1</td>\n",
       "    </tr>\n",
       "    <tr>\n",
       "      <th>5960</th>\n",
       "      <td>17</td>\n",
       "      <td>100</td>\n",
       "      <td>1</td>\n",
       "      <td>3</td>\n",
       "      <td>597</td>\n",
       "      <td>6</td>\n",
       "      <td>292</td>\n",
       "      <td>406</td>\n",
       "      <td>211</td>\n",
       "      <td>1</td>\n",
       "    </tr>\n",
       "  </tbody>\n",
       "</table>\n",
       "<p>5961 rows × 10 columns</p>\n",
       "</div>"
      ],
      "text/plain": [
       "      Experience  Rating  Profile  En_city  En_area  1st_degree  2nd_degree  \\\n",
       "0             24     100        5        4      296           8         252   \n",
       "1             12      98        0        0      855           5         241   \n",
       "2              9       0        3        0      452          79         334   \n",
       "3             12       0        0        0       68          12           7   \n",
       "4             20     100        0        1      335           5         426   \n",
       "...          ...     ...      ...      ...      ...         ...         ...   \n",
       "5956          19      98        3        0       70          79         328   \n",
       "5957          33       0        4        1      535          79         426   \n",
       "5958          41      97        4        3      215          79         426   \n",
       "5959          15      90        4        6      840          79         249   \n",
       "5960          17     100        1        3      597           6         292   \n",
       "\n",
       "      3rd_degree  4th_degree  M_feedbacks_number  \n",
       "0            406         211                  52  \n",
       "1            406         211                 182  \n",
       "2            406         211                   1  \n",
       "3            406         211                   1  \n",
       "4            406         211                 131  \n",
       "...          ...         ...                 ...  \n",
       "5956         406         211                 140  \n",
       "5957         406         211                   1  \n",
       "5958         406         211                  13  \n",
       "5959         406         211                   1  \n",
       "5960         406         211                   1  \n",
       "\n",
       "[5961 rows x 10 columns]"
      ]
     },
     "execution_count": 80,
     "metadata": {},
     "output_type": "execute_result"
    }
   ],
   "source": [
    "x"
   ]
  },
  {
   "cell_type": "code",
   "execution_count": 83,
   "metadata": {},
   "outputs": [
    {
     "data": {
      "text/plain": [
       "(5961, 66)"
      ]
     },
     "execution_count": 83,
     "metadata": {},
     "output_type": "execute_result"
    }
   ],
   "source": [
    "X.shape"
   ]
  },
  {
   "cell_type": "code",
   "execution_count": 84,
   "metadata": {},
   "outputs": [],
   "source": [
    "from sklearn.decomposition import PCA\n",
    "from sklearn.preprocessing import StandardScaler\n",
    "from sklearn.preprocessing import scale\n",
    "ss=StandardScaler()"
   ]
  },
  {
   "cell_type": "code",
   "execution_count": 85,
   "metadata": {},
   "outputs": [],
   "source": [
    "x=ss.fit_transform(X)\n",
    "y=scale(y)"
   ]
  },
  {
   "cell_type": "code",
   "execution_count": 89,
   "metadata": {},
   "outputs": [],
   "source": [
    "from sklearn.model_selection import train_test_split\n",
    "from sklearn.linear_model import LinearRegression\n",
    "from sklearn.metrics import mean_squared_error\n",
    "from sklearn.tree import DecisionTreeRegressor\n",
    "tree=DecisionTreeRegressor()\n",
    "from sklearn.ensemble import RandomForestRegressor\n",
    "rf=RandomForestRegressor()\n",
    "from sklearn.neighbors import KNeighborsRegressor\n",
    "knr=KNeighborsRegressor()\n",
    "from sklearn.neural_network import MLPRegressor\n",
    "nn=MLPRegressor(hidden_layer_sizes=(49,7),max_iter=1000)\n",
    "lr=LinearRegression()\n",
    "from sklearn.model_selection import cross_val_score\n",
    "from sklearn.pipeline import Pipeline\n",
    "from sklearn.svm import SVR\n",
    "svr=SVR()"
   ]
  },
  {
   "cell_type": "code",
   "execution_count": 93,
   "metadata": {},
   "outputs": [
    {
     "name": "stdout",
     "output_type": "stream",
     "text": [
      "------------------------------------------------------------------------------------------ \n",
      " LinearRegression(copy_X=True, fit_intercept=True, n_jobs=None, normalize=False) \n",
      " ------------------------------------------------------------------------------------------\n",
      "0.913491355700642\n",
      "------------------------------------------------------------------------------------------ \n",
      " DecisionTreeRegressor(ccp_alpha=0.0, criterion='mse', max_depth=None,\n",
      "                      max_features=None, max_leaf_nodes=None,\n",
      "                      min_impurity_decrease=0.0, min_impurity_split=None,\n",
      "                      min_samples_leaf=1, min_samples_split=2,\n",
      "                      min_weight_fraction_leaf=0.0, presort='deprecated',\n",
      "                      random_state=None, splitter='best') \n",
      " ------------------------------------------------------------------------------------------\n",
      "1.5121483413053245\n",
      "------------------------------------------------------------------------------------------ \n",
      " KNeighborsRegressor(algorithm='auto', leaf_size=30, metric='minkowski',\n",
      "                    metric_params=None, n_jobs=None, n_neighbors=5, p=2,\n",
      "                    weights='uniform') \n",
      " ------------------------------------------------------------------------------------------\n",
      "0.9821175168985522\n",
      "------------------------------------------------------------------------------------------ \n",
      " MLPRegressor(activation='relu', alpha=0.0001, batch_size='auto', beta_1=0.9,\n",
      "             beta_2=0.999, early_stopping=False, epsilon=1e-08,\n",
      "             hidden_layer_sizes=(49, 7), learning_rate='constant',\n",
      "             learning_rate_init=0.001, max_fun=15000, max_iter=1000,\n",
      "             momentum=0.9, n_iter_no_change=10, nesterovs_momentum=True,\n",
      "             power_t=0.5, random_state=None, shuffle=True, solver='adam',\n",
      "             tol=0.0001, validation_fraction=0.1, verbose=False,\n",
      "             warm_start=False) \n",
      " ------------------------------------------------------------------------------------------\n",
      "1.1443782390457926\n",
      "------------------------------------------------------------------------------------------ \n",
      " SVR(C=1.0, cache_size=200, coef0=0.0, degree=3, epsilon=0.1, gamma='scale',\n",
      "    kernel='rbf', max_iter=-1, shrinking=True, tol=0.001, verbose=False) \n",
      " ------------------------------------------------------------------------------------------\n",
      "0.9188041756451586\n",
      "------------------------------------------------------------------------------------------ \n",
      " RandomForestRegressor(bootstrap=True, ccp_alpha=0.0, criterion='mse',\n",
      "                      max_depth=None, max_features='auto', max_leaf_nodes=None,\n",
      "                      max_samples=None, min_impurity_decrease=0.0,\n",
      "                      min_impurity_split=None, min_samples_leaf=1,\n",
      "                      min_samples_split=2, min_weight_fraction_leaf=0.0,\n",
      "                      n_estimators=100, n_jobs=None, oob_score=False,\n",
      "                      random_state=None, verbose=0, warm_start=False) \n",
      " ------------------------------------------------------------------------------------------\n",
      "0.8714796542510092\n"
     ]
    }
   ],
   "source": [
    "X_train,X_test,y_train,y_test=train_test_split(x,y,test_size=0.20)\n",
    "models=[lr,tree,knr,nn,svr,rf]\n",
    "for model in models:\n",
    "    pipeline=Pipeline([('model',model)])\n",
    "    model.fit(X_train,y_train)\n",
    "    print('---'*30,'\\n',model,'\\n','---'*30)\n",
    "    #print(model.score(X_test,y_test))\n",
    "    print(mean_squared_error(model.predict(X_test),y_test))\n",
    "    #print(classification_report(model.predict(X_test),y_test))"
   ]
  },
  {
   "cell_type": "code",
   "execution_count": 103,
   "metadata": {},
   "outputs": [],
   "source": [
    "data=pd.read_excel('Final_Test.xlsx')\n",
    "data['Place'].fillna('HSR Layout, Bangalore',inplace=True)\n",
    "data['City'] = data['Place'].str.split(',').str[1]\n",
    "data['Area'] = data['Place'].str.split(',').str[0]\n",
    "data['1st_degree'] = data['Qualification'].str.split(',').str[0]\n",
    "data['2nd_degree'] = data['Qualification'].str.split(',').str[1]\n",
    "data['3rd_degree'] = data['Qualification'].str.split(',').str[2]\n",
    "data['4th_degree'] = data['Qualification'].str.split(',').str[3]\n",
    "data['M_number_of_feedback'] = data['Miscellaneous_Info'].str.split('% ').str[1]\n",
    "data['M_feedbacks_number'] = data['M_number_of_feedback'].str.split(' ').str[0]\n",
    "data['M_feedbacks_number'].fillna('0',inplace = True)\n",
    "Data=data[['Experience', 'Rating', 'Place', 'Profile', 'City', 'Area', '1st_degree','2nd_degree', '3rd_degree', '4th_degree', 'M_feedbacks_number']]\n",
    "data['Rating'] = data['Rating'].str.split('%').str[0]\n",
    "data['Rating'].fillna('0',inplace=True)\n",
    "data['Experience'] = data['Experience'].str.split(' ').str[0]\n",
    "data['Experience']=[int(i) for i in data['Experience']]\n",
    "data['Rating']=[int(i) for i in data['Rating']]\n",
    "data['City'].fillna(\"XXX\",inplace = True)\n",
    "data['Area'].fillna(\"XXX\",inplace = True)\n",
    "data['4th_degree'].fillna(\"XXX\",inplace = True)\n",
    "data['Profile'].fillna(\"XXX\",inplace = True)\n",
    "data['1st_degree'].fillna(\"XXX\",inplace = True)\n",
    "data['2nd_degree'].fillna(\"XXX\",inplace = True)\n",
    "data['3rd_degree'].fillna(\"XXX\",inplace = True)\n",
    "le=LabelEncoder()\n",
    "data['En_city']=le.fit_transform(data['City'])\n",
    "le_area=LabelEncoder()\n",
    "data['En_area']=le_area.fit_transform(data['Area'])\n",
    "le_profile=LabelEncoder()\n",
    "data['Profile']=le_area.fit_transform(data['Profile'])\n",
    "le_1st=LabelEncoder()\n",
    "data['1st_degree']=le_area.fit_transform(data['1st_degree'])\n",
    "le_2nd=LabelEncoder()\n",
    "data['2nd_degree']=le_2nd.fit_transform(data['2nd_degree'])\n",
    "le_3rd=LabelEncoder()\n",
    "data['3rd_degree']=le_3rd.fit_transform(data['3rd_degree'])\n",
    "le_4th=LabelEncoder()\n",
    "data['4th_degree']=le_4th.fit_transform(data['4th_degree'])\n",
    "le_4th=LabelEncoder()\n",
    "data['M_feedbacks_number']=le_4th.fit_transform(data['M_feedbacks_number'])\n",
    "Data=data[['Experience', 'Rating', 'Profile', 'En_city', 'En_area', '1st_degree','2nd_degree', '3rd_degree', '4th_degree', 'M_feedbacks_number']]\n",
    "poly=PolynomialFeatures()\n",
    "X=poly.fit_transform(Data)"
   ]
  },
  {
   "cell_type": "markdown",
   "metadata": {},
   "source": [
    "As the lowest rmse score was from the last model so the variable model should hold random forest regressor"
   ]
  },
  {
   "cell_type": "code",
   "execution_count": 106,
   "metadata": {},
   "outputs": [],
   "source": [
    "pred=model.predict(X)"
   ]
  },
  {
   "cell_type": "code",
   "execution_count": 109,
   "metadata": {},
   "outputs": [
    {
     "data": {
      "text/plain": [
       "190.92037314305324"
      ]
     },
     "execution_count": 109,
     "metadata": {},
     "output_type": "execute_result"
    }
   ],
   "source": [
    "pd.read_excel('Final_Train.xlsx')['Fees'].std()"
   ]
  },
  {
   "cell_type": "code",
   "execution_count": 110,
   "metadata": {},
   "outputs": [
    {
     "data": {
      "text/plain": [
       "307.9446401610468"
      ]
     },
     "execution_count": 110,
     "metadata": {},
     "output_type": "execute_result"
    }
   ],
   "source": [
    "pd.read_excel('Final_Train.xlsx')['Fees'].mean()"
   ]
  },
  {
   "cell_type": "code",
   "execution_count": 111,
   "metadata": {},
   "outputs": [],
   "source": [
    "pred=pred*190.920+307.94"
   ]
  },
  {
   "cell_type": "code",
   "execution_count": 112,
   "metadata": {},
   "outputs": [
    {
     "data": {
      "text/plain": [
       "array([322.49655242, 322.49655242, 444.00650747, ..., 322.49655242,\n",
       "       376.00093592, 320.49638856])"
      ]
     },
     "execution_count": 112,
     "metadata": {},
     "output_type": "execute_result"
    }
   ],
   "source": [
    "pred"
   ]
  },
  {
   "cell_type": "code",
   "execution_count": 113,
   "metadata": {},
   "outputs": [
    {
     "name": "stderr",
     "output_type": "stream",
     "text": [
      "C:\\ProgramData\\Anaconda3\\lib\\site-packages\\sklearn\\externals\\joblib\\__init__.py:15: FutureWarning: sklearn.externals.joblib is deprecated in 0.21 and will be removed in 0.23. Please import this functionality directly from joblib, which can be installed with: pip install joblib. If this warning is raised when loading pickled models, you may need to re-serialize those models with scikit-learn 0.21+.\n",
      "  warnings.warn(msg, category=FutureWarning)\n"
     ]
    },
    {
     "data": {
      "text/plain": [
       "['doctor_fees.pkl']"
      ]
     },
     "execution_count": 113,
     "metadata": {},
     "output_type": "execute_result"
    }
   ],
   "source": [
    "from sklearn.externals import joblib\n",
    "joblib.dump(model,'doctor_fees.pkl')"
   ]
  },
  {
   "cell_type": "code",
   "execution_count": 115,
   "metadata": {},
   "outputs": [],
   "source": [
    "output=pd.DataFrame(pred)\n",
    "output.to_csv('fees_prediction.csv')"
   ]
  },
  {
   "cell_type": "code",
   "execution_count": null,
   "metadata": {},
   "outputs": [],
   "source": []
  }
 ],
 "metadata": {
  "kernelspec": {
   "display_name": "Python 3",
   "language": "python",
   "name": "python3"
  },
  "language_info": {
   "codemirror_mode": {
    "name": "ipython",
    "version": 3
   },
   "file_extension": ".py",
   "mimetype": "text/x-python",
   "name": "python",
   "nbconvert_exporter": "python",
   "pygments_lexer": "ipython3",
   "version": "3.7.6"
  }
 },
 "nbformat": 4,
 "nbformat_minor": 4
}
